{
  "cells": [
    {
      "cell_type": "markdown",
      "metadata": {
        "id": "view-in-github",
        "colab_type": "text"
      },
      "source": [
        "<a href=\"https://colab.research.google.com/github/omobolacruise/100-Days-of-Code-Python/blob/main/free.ipynb\" target=\"_parent\"><img src=\"https://colab.research.google.com/assets/colab-badge.svg\" alt=\"Open In Colab\"/></a>"
      ]
    },
    {
      "cell_type": "markdown",
      "source": [
        "### **import libraries**"
      ],
      "metadata": {
        "id": "JfwOXwX8XKIc"
      },
      "id": "JfwOXwX8XKIc"
    },
    {
      "cell_type": "code",
      "execution_count": 4,
      "id": "e746b2af",
      "metadata": {
        "id": "e746b2af"
      },
      "outputs": [],
      "source": [
        "import numpy as np\n",
        "import pandas as pd"
      ]
    },
    {
      "cell_type": "code",
      "execution_count": 5,
      "id": "3129d777",
      "metadata": {
        "id": "3129d777"
      },
      "outputs": [],
      "source": [
        "import matplotlib.pyplot as plt\n",
        "import seaborn as sns\n",
        "#from statsmodels.graphics.gofplots import qqplot\n",
        "#import scipy"
      ]
    },
    {
      "cell_type": "markdown",
      "source": [
        "### **read datasets**"
      ],
      "metadata": {
        "id": "O-Fx13ExX2wH"
      },
      "id": "O-Fx13ExX2wH"
    },
    {
      "cell_type": "code",
      "execution_count": 6,
      "id": "2c497513",
      "metadata": {
        "id": "2c497513"
      },
      "outputs": [],
      "source": [
        "train_df = pd.read_csv('train.csv')\n",
        "test_df = pd.read_csv('test.csv')\n",
        "ss_df = pd.read_csv('SampleSubmission.csv')"
      ]
    },
    {
      "cell_type": "markdown",
      "source": [
        "### **perform some EDA**"
      ],
      "metadata": {
        "id": "s8s7qKsBYPBh"
      },
      "id": "s8s7qKsBYPBh"
    },
    {
      "cell_type": "code",
      "execution_count": 7,
      "id": "d69cc186",
      "metadata": {
        "id": "d69cc186",
        "outputId": "f542150e-8922-48ca-d9e3-d71fb6872958",
        "colab": {
          "base_uri": "https://localhost:8080/"
        }
      },
      "outputs": [
        {
          "output_type": "execute_result",
          "data": {
            "text/plain": [
              "(4990, 13)"
            ]
          },
          "metadata": {},
          "execution_count": 7
        }
      ],
      "source": [
        "train_df.shape"
      ]
    },
    {
      "cell_type": "code",
      "execution_count": 8,
      "id": "0c6eb6b0",
      "metadata": {
        "id": "0c6eb6b0",
        "outputId": "4b3fff54-5865-462f-abb6-6da65a2ab823",
        "colab": {
          "base_uri": "https://localhost:8080/"
        }
      },
      "outputs": [
        {
          "output_type": "execute_result",
          "data": {
            "text/plain": [
              "(3532, 12)"
            ]
          },
          "metadata": {},
          "execution_count": 8
        }
      ],
      "source": [
        "test_df.shape"
      ]
    },
    {
      "cell_type": "code",
      "execution_count": 9,
      "id": "b6d38def",
      "metadata": {
        "id": "b6d38def",
        "outputId": "5b6baad3-6826-4d03-8ef3-62cc889a1d5b",
        "colab": {
          "base_uri": "https://localhost:8080/"
        }
      },
      "outputs": [
        {
          "output_type": "stream",
          "name": "stdout",
          "text": [
            "<class 'pandas.core.frame.DataFrame'>\n",
            "RangeIndex: 4990 entries, 0 to 4989\n",
            "Data columns (total 13 columns):\n",
            " #   Column               Non-Null Count  Dtype  \n",
            "---  ------               --------------  -----  \n",
            " 0   Item_ID              4990 non-null   object \n",
            " 1   Store_ID             4990 non-null   object \n",
            " 2   Item_Store_ID        4990 non-null   object \n",
            " 3   Item_Weight          4188 non-null   float64\n",
            " 4   Item_Sugar_Content   4990 non-null   object \n",
            " 5   Item_Visibility      4990 non-null   float64\n",
            " 6   Item_Type            4990 non-null   object \n",
            " 7   Item_Price           4990 non-null   float64\n",
            " 8   Store_Start_Year     4990 non-null   int64  \n",
            " 9   Store_Size           3540 non-null   object \n",
            " 10  Store_Location_Type  4990 non-null   object \n",
            " 11  Store_Type           4990 non-null   object \n",
            " 12  Item_Store_Returns   4990 non-null   float64\n",
            "dtypes: float64(4), int64(1), object(8)\n",
            "memory usage: 506.9+ KB\n"
          ]
        }
      ],
      "source": [
        "train_df.info()"
      ]
    },
    {
      "cell_type": "code",
      "execution_count": 10,
      "id": "993c1415",
      "metadata": {
        "id": "993c1415",
        "outputId": "c34c90b7-c9a1-4d7b-8323-03062b4ded7f",
        "colab": {
          "base_uri": "https://localhost:8080/"
        }
      },
      "outputs": [
        {
          "output_type": "stream",
          "name": "stdout",
          "text": [
            "<class 'pandas.core.frame.DataFrame'>\n",
            "RangeIndex: 3532 entries, 0 to 3531\n",
            "Data columns (total 12 columns):\n",
            " #   Column               Non-Null Count  Dtype  \n",
            "---  ------               --------------  -----  \n",
            " 0   Item_ID              3532 non-null   object \n",
            " 1   Store_ID             3532 non-null   object \n",
            " 2   Item_Store_ID        3532 non-null   object \n",
            " 3   Item_Weight          2871 non-null   float64\n",
            " 4   Item_Sugar_Content   3532 non-null   object \n",
            " 5   Item_Visibility      3532 non-null   float64\n",
            " 6   Item_Type            3532 non-null   object \n",
            " 7   Item_Price           3532 non-null   float64\n",
            " 8   Store_Start_Year     3532 non-null   int64  \n",
            " 9   Store_Size           2573 non-null   object \n",
            " 10  Store_Location_Type  3532 non-null   object \n",
            " 11  Store_Type           3532 non-null   object \n",
            "dtypes: float64(3), int64(1), object(8)\n",
            "memory usage: 331.3+ KB\n"
          ]
        }
      ],
      "source": [
        "test_df.info()"
      ]
    },
    {
      "cell_type": "code",
      "execution_count": 11,
      "id": "d8d72ea2",
      "metadata": {
        "id": "d8d72ea2",
        "outputId": "9a705348-9691-4bde-c69a-478cc546a2e8",
        "colab": {
          "base_uri": "https://localhost:8080/",
          "height": 295
        }
      },
      "outputs": [
        {
          "output_type": "execute_result",
          "data": {
            "text/plain": [
              "  Item_ID      Store_ID       Item_Store_ID  Item_Weight Item_Sugar_Content  \\\n",
              "0   DRA12  BABATUNJI010  DRA12_BABATUNJI010         11.6          Low Sugar   \n",
              "1   DRA12  BABATUNJI013  DRA12_BABATUNJI013         11.6          Low Sugar   \n",
              "2   DRA12  BABATUNJI017  DRA12_BABATUNJI017         11.6          Low Sugar   \n",
              "3   DRA12  BABATUNJI018  DRA12_BABATUNJI018         11.6          Low Sugar   \n",
              "4   DRA12  BABATUNJI035  DRA12_BABATUNJI035         11.6    Ultra Low Sugar   \n",
              "\n",
              "   Item_Visibility    Item_Type  Item_Price  Store_Start_Year Store_Size  \\\n",
              "0         0.068535  Soft Drinks      357.54              2005        NaN   \n",
              "1         0.040912  Soft Drinks      355.79              1994       High   \n",
              "2         0.041178  Soft Drinks      350.79              2014        NaN   \n",
              "3         0.041113  Soft Drinks      355.04              2016     Medium   \n",
              "4         0.000000  Soft Drinks      354.79              2011      Small   \n",
              "\n",
              "  Store_Location_Type         Store_Type  Item_Store_Returns  \n",
              "0           Cluster 3      Grocery Store              709.08  \n",
              "1           Cluster 3  Supermarket Type1             6381.69  \n",
              "2           Cluster 2  Supermarket Type1             6381.69  \n",
              "3           Cluster 3  Supermarket Type2             2127.23  \n",
              "4           Cluster 2  Supermarket Type1             2481.77  "
            ],
            "text/html": [
              "\n",
              "  <div id=\"df-0a56c758-10f7-40f2-9262-532bd79bd520\" class=\"colab-df-container\">\n",
              "    <div>\n",
              "<style scoped>\n",
              "    .dataframe tbody tr th:only-of-type {\n",
              "        vertical-align: middle;\n",
              "    }\n",
              "\n",
              "    .dataframe tbody tr th {\n",
              "        vertical-align: top;\n",
              "    }\n",
              "\n",
              "    .dataframe thead th {\n",
              "        text-align: right;\n",
              "    }\n",
              "</style>\n",
              "<table border=\"1\" class=\"dataframe\">\n",
              "  <thead>\n",
              "    <tr style=\"text-align: right;\">\n",
              "      <th></th>\n",
              "      <th>Item_ID</th>\n",
              "      <th>Store_ID</th>\n",
              "      <th>Item_Store_ID</th>\n",
              "      <th>Item_Weight</th>\n",
              "      <th>Item_Sugar_Content</th>\n",
              "      <th>Item_Visibility</th>\n",
              "      <th>Item_Type</th>\n",
              "      <th>Item_Price</th>\n",
              "      <th>Store_Start_Year</th>\n",
              "      <th>Store_Size</th>\n",
              "      <th>Store_Location_Type</th>\n",
              "      <th>Store_Type</th>\n",
              "      <th>Item_Store_Returns</th>\n",
              "    </tr>\n",
              "  </thead>\n",
              "  <tbody>\n",
              "    <tr>\n",
              "      <th>0</th>\n",
              "      <td>DRA12</td>\n",
              "      <td>BABATUNJI010</td>\n",
              "      <td>DRA12_BABATUNJI010</td>\n",
              "      <td>11.6</td>\n",
              "      <td>Low Sugar</td>\n",
              "      <td>0.068535</td>\n",
              "      <td>Soft Drinks</td>\n",
              "      <td>357.54</td>\n",
              "      <td>2005</td>\n",
              "      <td>NaN</td>\n",
              "      <td>Cluster 3</td>\n",
              "      <td>Grocery Store</td>\n",
              "      <td>709.08</td>\n",
              "    </tr>\n",
              "    <tr>\n",
              "      <th>1</th>\n",
              "      <td>DRA12</td>\n",
              "      <td>BABATUNJI013</td>\n",
              "      <td>DRA12_BABATUNJI013</td>\n",
              "      <td>11.6</td>\n",
              "      <td>Low Sugar</td>\n",
              "      <td>0.040912</td>\n",
              "      <td>Soft Drinks</td>\n",
              "      <td>355.79</td>\n",
              "      <td>1994</td>\n",
              "      <td>High</td>\n",
              "      <td>Cluster 3</td>\n",
              "      <td>Supermarket Type1</td>\n",
              "      <td>6381.69</td>\n",
              "    </tr>\n",
              "    <tr>\n",
              "      <th>2</th>\n",
              "      <td>DRA12</td>\n",
              "      <td>BABATUNJI017</td>\n",
              "      <td>DRA12_BABATUNJI017</td>\n",
              "      <td>11.6</td>\n",
              "      <td>Low Sugar</td>\n",
              "      <td>0.041178</td>\n",
              "      <td>Soft Drinks</td>\n",
              "      <td>350.79</td>\n",
              "      <td>2014</td>\n",
              "      <td>NaN</td>\n",
              "      <td>Cluster 2</td>\n",
              "      <td>Supermarket Type1</td>\n",
              "      <td>6381.69</td>\n",
              "    </tr>\n",
              "    <tr>\n",
              "      <th>3</th>\n",
              "      <td>DRA12</td>\n",
              "      <td>BABATUNJI018</td>\n",
              "      <td>DRA12_BABATUNJI018</td>\n",
              "      <td>11.6</td>\n",
              "      <td>Low Sugar</td>\n",
              "      <td>0.041113</td>\n",
              "      <td>Soft Drinks</td>\n",
              "      <td>355.04</td>\n",
              "      <td>2016</td>\n",
              "      <td>Medium</td>\n",
              "      <td>Cluster 3</td>\n",
              "      <td>Supermarket Type2</td>\n",
              "      <td>2127.23</td>\n",
              "    </tr>\n",
              "    <tr>\n",
              "      <th>4</th>\n",
              "      <td>DRA12</td>\n",
              "      <td>BABATUNJI035</td>\n",
              "      <td>DRA12_BABATUNJI035</td>\n",
              "      <td>11.6</td>\n",
              "      <td>Ultra Low Sugar</td>\n",
              "      <td>0.000000</td>\n",
              "      <td>Soft Drinks</td>\n",
              "      <td>354.79</td>\n",
              "      <td>2011</td>\n",
              "      <td>Small</td>\n",
              "      <td>Cluster 2</td>\n",
              "      <td>Supermarket Type1</td>\n",
              "      <td>2481.77</td>\n",
              "    </tr>\n",
              "  </tbody>\n",
              "</table>\n",
              "</div>\n",
              "    <div class=\"colab-df-buttons\">\n",
              "\n",
              "  <div class=\"colab-df-container\">\n",
              "    <button class=\"colab-df-convert\" onclick=\"convertToInteractive('df-0a56c758-10f7-40f2-9262-532bd79bd520')\"\n",
              "            title=\"Convert this dataframe to an interactive table.\"\n",
              "            style=\"display:none;\">\n",
              "\n",
              "  <svg xmlns=\"http://www.w3.org/2000/svg\" height=\"24px\" viewBox=\"0 -960 960 960\">\n",
              "    <path d=\"M120-120v-720h720v720H120Zm60-500h600v-160H180v160Zm220 220h160v-160H400v160Zm0 220h160v-160H400v160ZM180-400h160v-160H180v160Zm440 0h160v-160H620v160ZM180-180h160v-160H180v160Zm440 0h160v-160H620v160Z\"/>\n",
              "  </svg>\n",
              "    </button>\n",
              "\n",
              "  <style>\n",
              "    .colab-df-container {\n",
              "      display:flex;\n",
              "      gap: 12px;\n",
              "    }\n",
              "\n",
              "    .colab-df-convert {\n",
              "      background-color: #E8F0FE;\n",
              "      border: none;\n",
              "      border-radius: 50%;\n",
              "      cursor: pointer;\n",
              "      display: none;\n",
              "      fill: #1967D2;\n",
              "      height: 32px;\n",
              "      padding: 0 0 0 0;\n",
              "      width: 32px;\n",
              "    }\n",
              "\n",
              "    .colab-df-convert:hover {\n",
              "      background-color: #E2EBFA;\n",
              "      box-shadow: 0px 1px 2px rgba(60, 64, 67, 0.3), 0px 1px 3px 1px rgba(60, 64, 67, 0.15);\n",
              "      fill: #174EA6;\n",
              "    }\n",
              "\n",
              "    .colab-df-buttons div {\n",
              "      margin-bottom: 4px;\n",
              "    }\n",
              "\n",
              "    [theme=dark] .colab-df-convert {\n",
              "      background-color: #3B4455;\n",
              "      fill: #D2E3FC;\n",
              "    }\n",
              "\n",
              "    [theme=dark] .colab-df-convert:hover {\n",
              "      background-color: #434B5C;\n",
              "      box-shadow: 0px 1px 3px 1px rgba(0, 0, 0, 0.15);\n",
              "      filter: drop-shadow(0px 1px 2px rgba(0, 0, 0, 0.3));\n",
              "      fill: #FFFFFF;\n",
              "    }\n",
              "  </style>\n",
              "\n",
              "    <script>\n",
              "      const buttonEl =\n",
              "        document.querySelector('#df-0a56c758-10f7-40f2-9262-532bd79bd520 button.colab-df-convert');\n",
              "      buttonEl.style.display =\n",
              "        google.colab.kernel.accessAllowed ? 'block' : 'none';\n",
              "\n",
              "      async function convertToInteractive(key) {\n",
              "        const element = document.querySelector('#df-0a56c758-10f7-40f2-9262-532bd79bd520');\n",
              "        const dataTable =\n",
              "          await google.colab.kernel.invokeFunction('convertToInteractive',\n",
              "                                                    [key], {});\n",
              "        if (!dataTable) return;\n",
              "\n",
              "        const docLinkHtml = 'Like what you see? Visit the ' +\n",
              "          '<a target=\"_blank\" href=https://colab.research.google.com/notebooks/data_table.ipynb>data table notebook</a>'\n",
              "          + ' to learn more about interactive tables.';\n",
              "        element.innerHTML = '';\n",
              "        dataTable['output_type'] = 'display_data';\n",
              "        await google.colab.output.renderOutput(dataTable, element);\n",
              "        const docLink = document.createElement('div');\n",
              "        docLink.innerHTML = docLinkHtml;\n",
              "        element.appendChild(docLink);\n",
              "      }\n",
              "    </script>\n",
              "  </div>\n",
              "\n",
              "\n",
              "    <div id=\"df-c6d8dbee-fef9-43e9-990f-5d121df937fc\">\n",
              "      <button class=\"colab-df-quickchart\" onclick=\"quickchart('df-c6d8dbee-fef9-43e9-990f-5d121df937fc')\"\n",
              "                title=\"Suggest charts\"\n",
              "                style=\"display:none;\">\n",
              "\n",
              "<svg xmlns=\"http://www.w3.org/2000/svg\" height=\"24px\"viewBox=\"0 0 24 24\"\n",
              "     width=\"24px\">\n",
              "    <g>\n",
              "        <path d=\"M19 3H5c-1.1 0-2 .9-2 2v14c0 1.1.9 2 2 2h14c1.1 0 2-.9 2-2V5c0-1.1-.9-2-2-2zM9 17H7v-7h2v7zm4 0h-2V7h2v10zm4 0h-2v-4h2v4z\"/>\n",
              "    </g>\n",
              "</svg>\n",
              "      </button>\n",
              "\n",
              "<style>\n",
              "  .colab-df-quickchart {\n",
              "      --bg-color: #E8F0FE;\n",
              "      --fill-color: #1967D2;\n",
              "      --hover-bg-color: #E2EBFA;\n",
              "      --hover-fill-color: #174EA6;\n",
              "      --disabled-fill-color: #AAA;\n",
              "      --disabled-bg-color: #DDD;\n",
              "  }\n",
              "\n",
              "  [theme=dark] .colab-df-quickchart {\n",
              "      --bg-color: #3B4455;\n",
              "      --fill-color: #D2E3FC;\n",
              "      --hover-bg-color: #434B5C;\n",
              "      --hover-fill-color: #FFFFFF;\n",
              "      --disabled-bg-color: #3B4455;\n",
              "      --disabled-fill-color: #666;\n",
              "  }\n",
              "\n",
              "  .colab-df-quickchart {\n",
              "    background-color: var(--bg-color);\n",
              "    border: none;\n",
              "    border-radius: 50%;\n",
              "    cursor: pointer;\n",
              "    display: none;\n",
              "    fill: var(--fill-color);\n",
              "    height: 32px;\n",
              "    padding: 0;\n",
              "    width: 32px;\n",
              "  }\n",
              "\n",
              "  .colab-df-quickchart:hover {\n",
              "    background-color: var(--hover-bg-color);\n",
              "    box-shadow: 0 1px 2px rgba(60, 64, 67, 0.3), 0 1px 3px 1px rgba(60, 64, 67, 0.15);\n",
              "    fill: var(--button-hover-fill-color);\n",
              "  }\n",
              "\n",
              "  .colab-df-quickchart-complete:disabled,\n",
              "  .colab-df-quickchart-complete:disabled:hover {\n",
              "    background-color: var(--disabled-bg-color);\n",
              "    fill: var(--disabled-fill-color);\n",
              "    box-shadow: none;\n",
              "  }\n",
              "\n",
              "  .colab-df-spinner {\n",
              "    border: 2px solid var(--fill-color);\n",
              "    border-color: transparent;\n",
              "    border-bottom-color: var(--fill-color);\n",
              "    animation:\n",
              "      spin 1s steps(1) infinite;\n",
              "  }\n",
              "\n",
              "  @keyframes spin {\n",
              "    0% {\n",
              "      border-color: transparent;\n",
              "      border-bottom-color: var(--fill-color);\n",
              "      border-left-color: var(--fill-color);\n",
              "    }\n",
              "    20% {\n",
              "      border-color: transparent;\n",
              "      border-left-color: var(--fill-color);\n",
              "      border-top-color: var(--fill-color);\n",
              "    }\n",
              "    30% {\n",
              "      border-color: transparent;\n",
              "      border-left-color: var(--fill-color);\n",
              "      border-top-color: var(--fill-color);\n",
              "      border-right-color: var(--fill-color);\n",
              "    }\n",
              "    40% {\n",
              "      border-color: transparent;\n",
              "      border-right-color: var(--fill-color);\n",
              "      border-top-color: var(--fill-color);\n",
              "    }\n",
              "    60% {\n",
              "      border-color: transparent;\n",
              "      border-right-color: var(--fill-color);\n",
              "    }\n",
              "    80% {\n",
              "      border-color: transparent;\n",
              "      border-right-color: var(--fill-color);\n",
              "      border-bottom-color: var(--fill-color);\n",
              "    }\n",
              "    90% {\n",
              "      border-color: transparent;\n",
              "      border-bottom-color: var(--fill-color);\n",
              "    }\n",
              "  }\n",
              "</style>\n",
              "\n",
              "      <script>\n",
              "        async function quickchart(key) {\n",
              "          const quickchartButtonEl =\n",
              "            document.querySelector('#' + key + ' button');\n",
              "          quickchartButtonEl.disabled = true;  // To prevent multiple clicks.\n",
              "          quickchartButtonEl.classList.add('colab-df-spinner');\n",
              "          try {\n",
              "            const charts = await google.colab.kernel.invokeFunction(\n",
              "                'suggestCharts', [key], {});\n",
              "          } catch (error) {\n",
              "            console.error('Error during call to suggestCharts:', error);\n",
              "          }\n",
              "          quickchartButtonEl.classList.remove('colab-df-spinner');\n",
              "          quickchartButtonEl.classList.add('colab-df-quickchart-complete');\n",
              "        }\n",
              "        (() => {\n",
              "          let quickchartButtonEl =\n",
              "            document.querySelector('#df-c6d8dbee-fef9-43e9-990f-5d121df937fc button');\n",
              "          quickchartButtonEl.style.display =\n",
              "            google.colab.kernel.accessAllowed ? 'block' : 'none';\n",
              "        })();\n",
              "      </script>\n",
              "    </div>\n",
              "\n",
              "    </div>\n",
              "  </div>\n"
            ],
            "application/vnd.google.colaboratory.intrinsic+json": {
              "type": "dataframe",
              "variable_name": "train_df",
              "summary": "{\n  \"name\": \"train_df\",\n  \"rows\": 4990,\n  \"fields\": [\n    {\n      \"column\": \"Item_ID\",\n      \"properties\": {\n        \"dtype\": \"category\",\n        \"num_unique_values\": 1451,\n        \"samples\": [\n          \"FDL12\",\n          \"FDR02\",\n          \"DRG13\"\n        ],\n        \"semantic_type\": \"\",\n        \"description\": \"\"\n      }\n    },\n    {\n      \"column\": \"Store_ID\",\n      \"properties\": {\n        \"dtype\": \"category\",\n        \"num_unique_values\": 10,\n        \"samples\": [\n          \"BABATUNJI049\",\n          \"BABATUNJI013\",\n          \"BABATUNJI045\"\n        ],\n        \"semantic_type\": \"\",\n        \"description\": \"\"\n      }\n    },\n    {\n      \"column\": \"Item_Store_ID\",\n      \"properties\": {\n        \"dtype\": \"string\",\n        \"num_unique_values\": 4990,\n        \"samples\": [\n          \"NCS30_BABATUNJI010\",\n          \"FDP21_BABATUNJI018\",\n          \"FDX55_BABATUNJI017\"\n        ],\n        \"semantic_type\": \"\",\n        \"description\": \"\"\n      }\n    },\n    {\n      \"column\": \"Item_Weight\",\n      \"properties\": {\n        \"dtype\": \"number\",\n        \"std\": 4.703255792767412,\n        \"min\": 4.555,\n        \"max\": 21.35,\n        \"num_unique_values\": 399,\n        \"samples\": [\n          16.35,\n          5.44,\n          5.655\n        ],\n        \"semantic_type\": \"\",\n        \"description\": \"\"\n      }\n    },\n    {\n      \"column\": \"Item_Sugar_Content\",\n      \"properties\": {\n        \"dtype\": \"category\",\n        \"num_unique_values\": 3,\n        \"samples\": [\n          \"Low Sugar\",\n          \"Ultra Low Sugar\",\n          \"Normal Sugar\"\n        ],\n        \"semantic_type\": \"\",\n        \"description\": \"\"\n      }\n    },\n    {\n      \"column\": \"Item_Visibility\",\n      \"properties\": {\n        \"dtype\": \"number\",\n        \"std\": 0.05305839827205762,\n        \"min\": 0.0,\n        \"max\": 0.328390948,\n        \"num_unique_values\": 4638,\n        \"samples\": [\n          0.227189581,\n          0.159936948,\n          0.113302223\n        ],\n        \"semantic_type\": \"\",\n        \"description\": \"\"\n      }\n    },\n    {\n      \"column\": \"Item_Type\",\n      \"properties\": {\n        \"dtype\": \"category\",\n        \"num_unique_values\": 16,\n        \"samples\": [\n          \"Soft Drinks\",\n          \"Dairy\",\n          \"Fruits and Vegetables\"\n        ],\n        \"semantic_type\": \"\",\n        \"description\": \"\"\n      }\n    },\n    {\n      \"column\": \"Item_Price\",\n      \"properties\": {\n        \"dtype\": \"number\",\n        \"std\": 119.37825917184696,\n        \"min\": 78.73,\n        \"max\": 667.22,\n        \"num_unique_values\": 3522,\n        \"samples\": [\n          305.19,\n          415.38,\n          318.42\n        ],\n        \"semantic_type\": \"\",\n        \"description\": \"\"\n      }\n    },\n    {\n      \"column\": \"Store_Start_Year\",\n      \"properties\": {\n        \"dtype\": \"number\",\n        \"std\": 8,\n        \"min\": 1992,\n        \"max\": 2016,\n        \"num_unique_values\": 9,\n        \"samples\": [\n          2006,\n          1994,\n          2009\n        ],\n        \"semantic_type\": \"\",\n        \"description\": \"\"\n      }\n    },\n    {\n      \"column\": \"Store_Size\",\n      \"properties\": {\n        \"dtype\": \"category\",\n        \"num_unique_values\": 3,\n        \"samples\": [\n          \"High\",\n          \"Medium\",\n          \"Small\"\n        ],\n        \"semantic_type\": \"\",\n        \"description\": \"\"\n      }\n    },\n    {\n      \"column\": \"Store_Location_Type\",\n      \"properties\": {\n        \"dtype\": \"category\",\n        \"num_unique_values\": 3,\n        \"samples\": [\n          \"Cluster 3\",\n          \"Cluster 2\",\n          \"Cluster 1\"\n        ],\n        \"semantic_type\": \"\",\n        \"description\": \"\"\n      }\n    },\n    {\n      \"column\": \"Store_Type\",\n      \"properties\": {\n        \"dtype\": \"category\",\n        \"num_unique_values\": 4,\n        \"samples\": [\n          \"Supermarket Type1\",\n          \"Supermarket Type3\",\n          \"Grocery Store\"\n        ],\n        \"semantic_type\": \"\",\n        \"description\": \"\"\n      }\n    },\n    {\n      \"column\": \"Item_Store_Returns\",\n      \"properties\": {\n        \"dtype\": \"number\",\n        \"std\": 4447.333834940854,\n        \"min\": 83.23,\n        \"max\": 32717.41,\n        \"num_unique_values\": 2686,\n        \"samples\": [\n          1667.83,\n          11190.43,\n          2067.31\n        ],\n        \"semantic_type\": \"\",\n        \"description\": \"\"\n      }\n    }\n  ]\n}"
            }
          },
          "metadata": {},
          "execution_count": 11
        }
      ],
      "source": [
        "train_df.head()"
      ]
    },
    {
      "cell_type": "code",
      "execution_count": 12,
      "id": "b5eff0f2",
      "metadata": {
        "id": "b5eff0f2"
      },
      "outputs": [],
      "source": [
        "df = train_df.drop_duplicates(subset=['Item_Store_ID'])"
      ]
    },
    {
      "cell_type": "code",
      "execution_count": 13,
      "id": "9364aca6",
      "metadata": {
        "id": "9364aca6",
        "outputId": "8de53d11-eb13-4e4d-e2ee-b107c11113c5",
        "colab": {
          "base_uri": "https://localhost:8080/"
        }
      },
      "outputs": [
        {
          "output_type": "execute_result",
          "data": {
            "text/plain": [
              "(4990, 13)"
            ]
          },
          "metadata": {},
          "execution_count": 13
        }
      ],
      "source": [
        "df.shape"
      ]
    },
    {
      "cell_type": "code",
      "execution_count": 14,
      "id": "22f42ac6",
      "metadata": {
        "id": "22f42ac6",
        "outputId": "793b2642-f0ab-411a-bb5b-845f8eedd85c",
        "colab": {
          "base_uri": "https://localhost:8080/",
          "height": 226
        }
      },
      "outputs": [
        {
          "output_type": "execute_result",
          "data": {
            "text/plain": [
              "                     count         mean          std       min          25%  \\\n",
              "Item_Weight         4188.0    12.908838     4.703256     4.555     8.767500   \n",
              "Item_Visibility     4990.0     0.066916     0.053058     0.000     0.027273   \n",
              "Item_Price          4990.0   391.803796   119.378259    78.730   307.890000   \n",
              "Store_Start_Year    4990.0  2004.783567     8.283151  1992.000  1994.000000   \n",
              "Item_Store_Returns  4990.0  6103.520164  4447.333835    83.230  2757.660000   \n",
              "\n",
              "                            50%          75%           max  \n",
              "Item_Weight           12.600000    17.100000     21.350000  \n",
              "Item_Visibility        0.053564     0.095358      0.328391  \n",
              "Item_Price           393.860000   465.067500    667.220000  \n",
              "Store_Start_Year    2006.000000  2011.000000   2016.000000  \n",
              "Item_Store_Returns  5374.675000  8522.240000  32717.410000  "
            ],
            "text/html": [
              "\n",
              "  <div id=\"df-be2c6d13-e60d-4a16-8dd3-2964fefba0cd\" class=\"colab-df-container\">\n",
              "    <div>\n",
              "<style scoped>\n",
              "    .dataframe tbody tr th:only-of-type {\n",
              "        vertical-align: middle;\n",
              "    }\n",
              "\n",
              "    .dataframe tbody tr th {\n",
              "        vertical-align: top;\n",
              "    }\n",
              "\n",
              "    .dataframe thead th {\n",
              "        text-align: right;\n",
              "    }\n",
              "</style>\n",
              "<table border=\"1\" class=\"dataframe\">\n",
              "  <thead>\n",
              "    <tr style=\"text-align: right;\">\n",
              "      <th></th>\n",
              "      <th>count</th>\n",
              "      <th>mean</th>\n",
              "      <th>std</th>\n",
              "      <th>min</th>\n",
              "      <th>25%</th>\n",
              "      <th>50%</th>\n",
              "      <th>75%</th>\n",
              "      <th>max</th>\n",
              "    </tr>\n",
              "  </thead>\n",
              "  <tbody>\n",
              "    <tr>\n",
              "      <th>Item_Weight</th>\n",
              "      <td>4188.0</td>\n",
              "      <td>12.908838</td>\n",
              "      <td>4.703256</td>\n",
              "      <td>4.555</td>\n",
              "      <td>8.767500</td>\n",
              "      <td>12.600000</td>\n",
              "      <td>17.100000</td>\n",
              "      <td>21.350000</td>\n",
              "    </tr>\n",
              "    <tr>\n",
              "      <th>Item_Visibility</th>\n",
              "      <td>4990.0</td>\n",
              "      <td>0.066916</td>\n",
              "      <td>0.053058</td>\n",
              "      <td>0.000</td>\n",
              "      <td>0.027273</td>\n",
              "      <td>0.053564</td>\n",
              "      <td>0.095358</td>\n",
              "      <td>0.328391</td>\n",
              "    </tr>\n",
              "    <tr>\n",
              "      <th>Item_Price</th>\n",
              "      <td>4990.0</td>\n",
              "      <td>391.803796</td>\n",
              "      <td>119.378259</td>\n",
              "      <td>78.730</td>\n",
              "      <td>307.890000</td>\n",
              "      <td>393.860000</td>\n",
              "      <td>465.067500</td>\n",
              "      <td>667.220000</td>\n",
              "    </tr>\n",
              "    <tr>\n",
              "      <th>Store_Start_Year</th>\n",
              "      <td>4990.0</td>\n",
              "      <td>2004.783567</td>\n",
              "      <td>8.283151</td>\n",
              "      <td>1992.000</td>\n",
              "      <td>1994.000000</td>\n",
              "      <td>2006.000000</td>\n",
              "      <td>2011.000000</td>\n",
              "      <td>2016.000000</td>\n",
              "    </tr>\n",
              "    <tr>\n",
              "      <th>Item_Store_Returns</th>\n",
              "      <td>4990.0</td>\n",
              "      <td>6103.520164</td>\n",
              "      <td>4447.333835</td>\n",
              "      <td>83.230</td>\n",
              "      <td>2757.660000</td>\n",
              "      <td>5374.675000</td>\n",
              "      <td>8522.240000</td>\n",
              "      <td>32717.410000</td>\n",
              "    </tr>\n",
              "  </tbody>\n",
              "</table>\n",
              "</div>\n",
              "    <div class=\"colab-df-buttons\">\n",
              "\n",
              "  <div class=\"colab-df-container\">\n",
              "    <button class=\"colab-df-convert\" onclick=\"convertToInteractive('df-be2c6d13-e60d-4a16-8dd3-2964fefba0cd')\"\n",
              "            title=\"Convert this dataframe to an interactive table.\"\n",
              "            style=\"display:none;\">\n",
              "\n",
              "  <svg xmlns=\"http://www.w3.org/2000/svg\" height=\"24px\" viewBox=\"0 -960 960 960\">\n",
              "    <path d=\"M120-120v-720h720v720H120Zm60-500h600v-160H180v160Zm220 220h160v-160H400v160Zm0 220h160v-160H400v160ZM180-400h160v-160H180v160Zm440 0h160v-160H620v160ZM180-180h160v-160H180v160Zm440 0h160v-160H620v160Z\"/>\n",
              "  </svg>\n",
              "    </button>\n",
              "\n",
              "  <style>\n",
              "    .colab-df-container {\n",
              "      display:flex;\n",
              "      gap: 12px;\n",
              "    }\n",
              "\n",
              "    .colab-df-convert {\n",
              "      background-color: #E8F0FE;\n",
              "      border: none;\n",
              "      border-radius: 50%;\n",
              "      cursor: pointer;\n",
              "      display: none;\n",
              "      fill: #1967D2;\n",
              "      height: 32px;\n",
              "      padding: 0 0 0 0;\n",
              "      width: 32px;\n",
              "    }\n",
              "\n",
              "    .colab-df-convert:hover {\n",
              "      background-color: #E2EBFA;\n",
              "      box-shadow: 0px 1px 2px rgba(60, 64, 67, 0.3), 0px 1px 3px 1px rgba(60, 64, 67, 0.15);\n",
              "      fill: #174EA6;\n",
              "    }\n",
              "\n",
              "    .colab-df-buttons div {\n",
              "      margin-bottom: 4px;\n",
              "    }\n",
              "\n",
              "    [theme=dark] .colab-df-convert {\n",
              "      background-color: #3B4455;\n",
              "      fill: #D2E3FC;\n",
              "    }\n",
              "\n",
              "    [theme=dark] .colab-df-convert:hover {\n",
              "      background-color: #434B5C;\n",
              "      box-shadow: 0px 1px 3px 1px rgba(0, 0, 0, 0.15);\n",
              "      filter: drop-shadow(0px 1px 2px rgba(0, 0, 0, 0.3));\n",
              "      fill: #FFFFFF;\n",
              "    }\n",
              "  </style>\n",
              "\n",
              "    <script>\n",
              "      const buttonEl =\n",
              "        document.querySelector('#df-be2c6d13-e60d-4a16-8dd3-2964fefba0cd button.colab-df-convert');\n",
              "      buttonEl.style.display =\n",
              "        google.colab.kernel.accessAllowed ? 'block' : 'none';\n",
              "\n",
              "      async function convertToInteractive(key) {\n",
              "        const element = document.querySelector('#df-be2c6d13-e60d-4a16-8dd3-2964fefba0cd');\n",
              "        const dataTable =\n",
              "          await google.colab.kernel.invokeFunction('convertToInteractive',\n",
              "                                                    [key], {});\n",
              "        if (!dataTable) return;\n",
              "\n",
              "        const docLinkHtml = 'Like what you see? Visit the ' +\n",
              "          '<a target=\"_blank\" href=https://colab.research.google.com/notebooks/data_table.ipynb>data table notebook</a>'\n",
              "          + ' to learn more about interactive tables.';\n",
              "        element.innerHTML = '';\n",
              "        dataTable['output_type'] = 'display_data';\n",
              "        await google.colab.output.renderOutput(dataTable, element);\n",
              "        const docLink = document.createElement('div');\n",
              "        docLink.innerHTML = docLinkHtml;\n",
              "        element.appendChild(docLink);\n",
              "      }\n",
              "    </script>\n",
              "  </div>\n",
              "\n",
              "\n",
              "    <div id=\"df-15f32f09-9cd6-4ec6-8f04-1787ca4b41a8\">\n",
              "      <button class=\"colab-df-quickchart\" onclick=\"quickchart('df-15f32f09-9cd6-4ec6-8f04-1787ca4b41a8')\"\n",
              "                title=\"Suggest charts\"\n",
              "                style=\"display:none;\">\n",
              "\n",
              "<svg xmlns=\"http://www.w3.org/2000/svg\" height=\"24px\"viewBox=\"0 0 24 24\"\n",
              "     width=\"24px\">\n",
              "    <g>\n",
              "        <path d=\"M19 3H5c-1.1 0-2 .9-2 2v14c0 1.1.9 2 2 2h14c1.1 0 2-.9 2-2V5c0-1.1-.9-2-2-2zM9 17H7v-7h2v7zm4 0h-2V7h2v10zm4 0h-2v-4h2v4z\"/>\n",
              "    </g>\n",
              "</svg>\n",
              "      </button>\n",
              "\n",
              "<style>\n",
              "  .colab-df-quickchart {\n",
              "      --bg-color: #E8F0FE;\n",
              "      --fill-color: #1967D2;\n",
              "      --hover-bg-color: #E2EBFA;\n",
              "      --hover-fill-color: #174EA6;\n",
              "      --disabled-fill-color: #AAA;\n",
              "      --disabled-bg-color: #DDD;\n",
              "  }\n",
              "\n",
              "  [theme=dark] .colab-df-quickchart {\n",
              "      --bg-color: #3B4455;\n",
              "      --fill-color: #D2E3FC;\n",
              "      --hover-bg-color: #434B5C;\n",
              "      --hover-fill-color: #FFFFFF;\n",
              "      --disabled-bg-color: #3B4455;\n",
              "      --disabled-fill-color: #666;\n",
              "  }\n",
              "\n",
              "  .colab-df-quickchart {\n",
              "    background-color: var(--bg-color);\n",
              "    border: none;\n",
              "    border-radius: 50%;\n",
              "    cursor: pointer;\n",
              "    display: none;\n",
              "    fill: var(--fill-color);\n",
              "    height: 32px;\n",
              "    padding: 0;\n",
              "    width: 32px;\n",
              "  }\n",
              "\n",
              "  .colab-df-quickchart:hover {\n",
              "    background-color: var(--hover-bg-color);\n",
              "    box-shadow: 0 1px 2px rgba(60, 64, 67, 0.3), 0 1px 3px 1px rgba(60, 64, 67, 0.15);\n",
              "    fill: var(--button-hover-fill-color);\n",
              "  }\n",
              "\n",
              "  .colab-df-quickchart-complete:disabled,\n",
              "  .colab-df-quickchart-complete:disabled:hover {\n",
              "    background-color: var(--disabled-bg-color);\n",
              "    fill: var(--disabled-fill-color);\n",
              "    box-shadow: none;\n",
              "  }\n",
              "\n",
              "  .colab-df-spinner {\n",
              "    border: 2px solid var(--fill-color);\n",
              "    border-color: transparent;\n",
              "    border-bottom-color: var(--fill-color);\n",
              "    animation:\n",
              "      spin 1s steps(1) infinite;\n",
              "  }\n",
              "\n",
              "  @keyframes spin {\n",
              "    0% {\n",
              "      border-color: transparent;\n",
              "      border-bottom-color: var(--fill-color);\n",
              "      border-left-color: var(--fill-color);\n",
              "    }\n",
              "    20% {\n",
              "      border-color: transparent;\n",
              "      border-left-color: var(--fill-color);\n",
              "      border-top-color: var(--fill-color);\n",
              "    }\n",
              "    30% {\n",
              "      border-color: transparent;\n",
              "      border-left-color: var(--fill-color);\n",
              "      border-top-color: var(--fill-color);\n",
              "      border-right-color: var(--fill-color);\n",
              "    }\n",
              "    40% {\n",
              "      border-color: transparent;\n",
              "      border-right-color: var(--fill-color);\n",
              "      border-top-color: var(--fill-color);\n",
              "    }\n",
              "    60% {\n",
              "      border-color: transparent;\n",
              "      border-right-color: var(--fill-color);\n",
              "    }\n",
              "    80% {\n",
              "      border-color: transparent;\n",
              "      border-right-color: var(--fill-color);\n",
              "      border-bottom-color: var(--fill-color);\n",
              "    }\n",
              "    90% {\n",
              "      border-color: transparent;\n",
              "      border-bottom-color: var(--fill-color);\n",
              "    }\n",
              "  }\n",
              "</style>\n",
              "\n",
              "      <script>\n",
              "        async function quickchart(key) {\n",
              "          const quickchartButtonEl =\n",
              "            document.querySelector('#' + key + ' button');\n",
              "          quickchartButtonEl.disabled = true;  // To prevent multiple clicks.\n",
              "          quickchartButtonEl.classList.add('colab-df-spinner');\n",
              "          try {\n",
              "            const charts = await google.colab.kernel.invokeFunction(\n",
              "                'suggestCharts', [key], {});\n",
              "          } catch (error) {\n",
              "            console.error('Error during call to suggestCharts:', error);\n",
              "          }\n",
              "          quickchartButtonEl.classList.remove('colab-df-spinner');\n",
              "          quickchartButtonEl.classList.add('colab-df-quickchart-complete');\n",
              "        }\n",
              "        (() => {\n",
              "          let quickchartButtonEl =\n",
              "            document.querySelector('#df-15f32f09-9cd6-4ec6-8f04-1787ca4b41a8 button');\n",
              "          quickchartButtonEl.style.display =\n",
              "            google.colab.kernel.accessAllowed ? 'block' : 'none';\n",
              "        })();\n",
              "      </script>\n",
              "    </div>\n",
              "\n",
              "    </div>\n",
              "  </div>\n"
            ],
            "application/vnd.google.colaboratory.intrinsic+json": {
              "type": "dataframe",
              "summary": "{\n  \"name\": \"train_df\",\n  \"rows\": 5,\n  \"fields\": [\n    {\n      \"column\": \"count\",\n      \"properties\": {\n        \"dtype\": \"number\",\n        \"std\": 358.66530359096623,\n        \"min\": 4188.0,\n        \"max\": 4990.0,\n        \"num_unique_values\": 2,\n        \"samples\": [\n          4990.0,\n          4188.0\n        ],\n        \"semantic_type\": \"\",\n        \"description\": \"\"\n      }\n    },\n    {\n      \"column\": \"mean\",\n      \"properties\": {\n        \"dtype\": \"number\",\n        \"std\": 2594.7675720666925,\n        \"min\": 0.06691624405791584,\n        \"max\": 6103.520164328656,\n        \"num_unique_values\": 5,\n        \"samples\": [\n          0.06691624405791584,\n          6103.520164328656\n        ],\n        \"semantic_type\": \"\",\n        \"description\": \"\"\n      }\n    },\n    {\n      \"column\": \"std\",\n      \"properties\": {\n        \"dtype\": \"number\",\n        \"std\": 1974.7338600961334,\n        \"min\": 0.05305839827205762,\n        \"max\": 4447.333834940854,\n        \"num_unique_values\": 5,\n        \"samples\": [\n          0.05305839827205762,\n          4447.333834940854\n        ],\n        \"semantic_type\": \"\",\n        \"description\": \"\"\n      }\n    },\n    {\n      \"column\": \"min\",\n      \"properties\": {\n        \"dtype\": \"number\",\n        \"std\": 873.1226993928173,\n        \"min\": 0.0,\n        \"max\": 1992.0,\n        \"num_unique_values\": 5,\n        \"samples\": [\n          0.0,\n          83.23\n        ],\n        \"semantic_type\": \"\",\n        \"description\": \"\"\n      }\n    },\n    {\n      \"column\": \"25%\",\n      \"properties\": {\n        \"dtype\": \"number\",\n        \"std\": 1278.4731177101742,\n        \"min\": 0.0272725415,\n        \"max\": 2757.66,\n        \"num_unique_values\": 5,\n        \"samples\": [\n          0.0272725415,\n          2757.66\n        ],\n        \"semantic_type\": \"\",\n        \"description\": \"\"\n      }\n    },\n    {\n      \"column\": \"50%\",\n      \"properties\": {\n        \"dtype\": \"number\",\n        \"std\": 2287.9243143097874,\n        \"min\": 0.0535639345,\n        \"max\": 5374.675,\n        \"num_unique_values\": 5,\n        \"samples\": [\n          0.0535639345,\n          5374.675\n        ],\n        \"semantic_type\": \"\",\n        \"description\": \"\"\n      }\n    },\n    {\n      \"column\": \"75%\",\n      \"properties\": {\n        \"dtype\": \"number\",\n        \"std\": 3627.0172033553768,\n        \"min\": 0.09535790575,\n        \"max\": 8522.24,\n        \"num_unique_values\": 5,\n        \"samples\": [\n          0.09535790575,\n          8522.24\n        ],\n        \"semantic_type\": \"\",\n        \"description\": \"\"\n      }\n    },\n    {\n      \"column\": \"max\",\n      \"properties\": {\n        \"dtype\": \"number\",\n        \"std\": 14352.620189517274,\n        \"min\": 0.328390948,\n        \"max\": 32717.41,\n        \"num_unique_values\": 5,\n        \"samples\": [\n          0.328390948,\n          32717.41\n        ],\n        \"semantic_type\": \"\",\n        \"description\": \"\"\n      }\n    }\n  ]\n}"
            }
          },
          "metadata": {},
          "execution_count": 14
        }
      ],
      "source": [
        "train_df.describe().T"
      ]
    },
    {
      "cell_type": "code",
      "execution_count": 15,
      "id": "99e8fbee",
      "metadata": {
        "id": "99e8fbee",
        "outputId": "22f3bb84-320f-4f77-cbe7-b3a5095a4b17",
        "colab": {
          "base_uri": "https://localhost:8080/",
          "height": 194
        }
      },
      "outputs": [
        {
          "output_type": "execute_result",
          "data": {
            "text/plain": [
              "                   count         mean         std       min          25%  \\\n",
              "Item_Weight       2871.0    12.781665    4.554868     4.555     8.840000   \n",
              "Item_Visibility   3532.0     0.065030    0.049454     0.000     0.026811   \n",
              "Item_Price        3532.0   296.903392  181.897221    78.230   145.307500   \n",
              "Store_Start_Year  3532.0  2004.900057    8.497250  1992.000  1994.000000   \n",
              "\n",
              "                          50%          75%          max  \n",
              "Item_Weight         12.600000    16.600000    21.350000  \n",
              "Item_Visibility      0.054444     0.094049     0.321115  \n",
              "Item_Price         237.770000   461.002500   667.220000  \n",
              "Store_Start_Year  2006.000000  2011.000000  2016.000000  "
            ],
            "text/html": [
              "\n",
              "  <div id=\"df-bf2999ae-4323-4917-ad36-d34eb2cc3675\" class=\"colab-df-container\">\n",
              "    <div>\n",
              "<style scoped>\n",
              "    .dataframe tbody tr th:only-of-type {\n",
              "        vertical-align: middle;\n",
              "    }\n",
              "\n",
              "    .dataframe tbody tr th {\n",
              "        vertical-align: top;\n",
              "    }\n",
              "\n",
              "    .dataframe thead th {\n",
              "        text-align: right;\n",
              "    }\n",
              "</style>\n",
              "<table border=\"1\" class=\"dataframe\">\n",
              "  <thead>\n",
              "    <tr style=\"text-align: right;\">\n",
              "      <th></th>\n",
              "      <th>count</th>\n",
              "      <th>mean</th>\n",
              "      <th>std</th>\n",
              "      <th>min</th>\n",
              "      <th>25%</th>\n",
              "      <th>50%</th>\n",
              "      <th>75%</th>\n",
              "      <th>max</th>\n",
              "    </tr>\n",
              "  </thead>\n",
              "  <tbody>\n",
              "    <tr>\n",
              "      <th>Item_Weight</th>\n",
              "      <td>2871.0</td>\n",
              "      <td>12.781665</td>\n",
              "      <td>4.554868</td>\n",
              "      <td>4.555</td>\n",
              "      <td>8.840000</td>\n",
              "      <td>12.600000</td>\n",
              "      <td>16.600000</td>\n",
              "      <td>21.350000</td>\n",
              "    </tr>\n",
              "    <tr>\n",
              "      <th>Item_Visibility</th>\n",
              "      <td>3532.0</td>\n",
              "      <td>0.065030</td>\n",
              "      <td>0.049454</td>\n",
              "      <td>0.000</td>\n",
              "      <td>0.026811</td>\n",
              "      <td>0.054444</td>\n",
              "      <td>0.094049</td>\n",
              "      <td>0.321115</td>\n",
              "    </tr>\n",
              "    <tr>\n",
              "      <th>Item_Price</th>\n",
              "      <td>3532.0</td>\n",
              "      <td>296.903392</td>\n",
              "      <td>181.897221</td>\n",
              "      <td>78.230</td>\n",
              "      <td>145.307500</td>\n",
              "      <td>237.770000</td>\n",
              "      <td>461.002500</td>\n",
              "      <td>667.220000</td>\n",
              "    </tr>\n",
              "    <tr>\n",
              "      <th>Store_Start_Year</th>\n",
              "      <td>3532.0</td>\n",
              "      <td>2004.900057</td>\n",
              "      <td>8.497250</td>\n",
              "      <td>1992.000</td>\n",
              "      <td>1994.000000</td>\n",
              "      <td>2006.000000</td>\n",
              "      <td>2011.000000</td>\n",
              "      <td>2016.000000</td>\n",
              "    </tr>\n",
              "  </tbody>\n",
              "</table>\n",
              "</div>\n",
              "    <div class=\"colab-df-buttons\">\n",
              "\n",
              "  <div class=\"colab-df-container\">\n",
              "    <button class=\"colab-df-convert\" onclick=\"convertToInteractive('df-bf2999ae-4323-4917-ad36-d34eb2cc3675')\"\n",
              "            title=\"Convert this dataframe to an interactive table.\"\n",
              "            style=\"display:none;\">\n",
              "\n",
              "  <svg xmlns=\"http://www.w3.org/2000/svg\" height=\"24px\" viewBox=\"0 -960 960 960\">\n",
              "    <path d=\"M120-120v-720h720v720H120Zm60-500h600v-160H180v160Zm220 220h160v-160H400v160Zm0 220h160v-160H400v160ZM180-400h160v-160H180v160Zm440 0h160v-160H620v160ZM180-180h160v-160H180v160Zm440 0h160v-160H620v160Z\"/>\n",
              "  </svg>\n",
              "    </button>\n",
              "\n",
              "  <style>\n",
              "    .colab-df-container {\n",
              "      display:flex;\n",
              "      gap: 12px;\n",
              "    }\n",
              "\n",
              "    .colab-df-convert {\n",
              "      background-color: #E8F0FE;\n",
              "      border: none;\n",
              "      border-radius: 50%;\n",
              "      cursor: pointer;\n",
              "      display: none;\n",
              "      fill: #1967D2;\n",
              "      height: 32px;\n",
              "      padding: 0 0 0 0;\n",
              "      width: 32px;\n",
              "    }\n",
              "\n",
              "    .colab-df-convert:hover {\n",
              "      background-color: #E2EBFA;\n",
              "      box-shadow: 0px 1px 2px rgba(60, 64, 67, 0.3), 0px 1px 3px 1px rgba(60, 64, 67, 0.15);\n",
              "      fill: #174EA6;\n",
              "    }\n",
              "\n",
              "    .colab-df-buttons div {\n",
              "      margin-bottom: 4px;\n",
              "    }\n",
              "\n",
              "    [theme=dark] .colab-df-convert {\n",
              "      background-color: #3B4455;\n",
              "      fill: #D2E3FC;\n",
              "    }\n",
              "\n",
              "    [theme=dark] .colab-df-convert:hover {\n",
              "      background-color: #434B5C;\n",
              "      box-shadow: 0px 1px 3px 1px rgba(0, 0, 0, 0.15);\n",
              "      filter: drop-shadow(0px 1px 2px rgba(0, 0, 0, 0.3));\n",
              "      fill: #FFFFFF;\n",
              "    }\n",
              "  </style>\n",
              "\n",
              "    <script>\n",
              "      const buttonEl =\n",
              "        document.querySelector('#df-bf2999ae-4323-4917-ad36-d34eb2cc3675 button.colab-df-convert');\n",
              "      buttonEl.style.display =\n",
              "        google.colab.kernel.accessAllowed ? 'block' : 'none';\n",
              "\n",
              "      async function convertToInteractive(key) {\n",
              "        const element = document.querySelector('#df-bf2999ae-4323-4917-ad36-d34eb2cc3675');\n",
              "        const dataTable =\n",
              "          await google.colab.kernel.invokeFunction('convertToInteractive',\n",
              "                                                    [key], {});\n",
              "        if (!dataTable) return;\n",
              "\n",
              "        const docLinkHtml = 'Like what you see? Visit the ' +\n",
              "          '<a target=\"_blank\" href=https://colab.research.google.com/notebooks/data_table.ipynb>data table notebook</a>'\n",
              "          + ' to learn more about interactive tables.';\n",
              "        element.innerHTML = '';\n",
              "        dataTable['output_type'] = 'display_data';\n",
              "        await google.colab.output.renderOutput(dataTable, element);\n",
              "        const docLink = document.createElement('div');\n",
              "        docLink.innerHTML = docLinkHtml;\n",
              "        element.appendChild(docLink);\n",
              "      }\n",
              "    </script>\n",
              "  </div>\n",
              "\n",
              "\n",
              "    <div id=\"df-6c944bd0-c3b3-40a0-8946-2b2cb2aa172c\">\n",
              "      <button class=\"colab-df-quickchart\" onclick=\"quickchart('df-6c944bd0-c3b3-40a0-8946-2b2cb2aa172c')\"\n",
              "                title=\"Suggest charts\"\n",
              "                style=\"display:none;\">\n",
              "\n",
              "<svg xmlns=\"http://www.w3.org/2000/svg\" height=\"24px\"viewBox=\"0 0 24 24\"\n",
              "     width=\"24px\">\n",
              "    <g>\n",
              "        <path d=\"M19 3H5c-1.1 0-2 .9-2 2v14c0 1.1.9 2 2 2h14c1.1 0 2-.9 2-2V5c0-1.1-.9-2-2-2zM9 17H7v-7h2v7zm4 0h-2V7h2v10zm4 0h-2v-4h2v4z\"/>\n",
              "    </g>\n",
              "</svg>\n",
              "      </button>\n",
              "\n",
              "<style>\n",
              "  .colab-df-quickchart {\n",
              "      --bg-color: #E8F0FE;\n",
              "      --fill-color: #1967D2;\n",
              "      --hover-bg-color: #E2EBFA;\n",
              "      --hover-fill-color: #174EA6;\n",
              "      --disabled-fill-color: #AAA;\n",
              "      --disabled-bg-color: #DDD;\n",
              "  }\n",
              "\n",
              "  [theme=dark] .colab-df-quickchart {\n",
              "      --bg-color: #3B4455;\n",
              "      --fill-color: #D2E3FC;\n",
              "      --hover-bg-color: #434B5C;\n",
              "      --hover-fill-color: #FFFFFF;\n",
              "      --disabled-bg-color: #3B4455;\n",
              "      --disabled-fill-color: #666;\n",
              "  }\n",
              "\n",
              "  .colab-df-quickchart {\n",
              "    background-color: var(--bg-color);\n",
              "    border: none;\n",
              "    border-radius: 50%;\n",
              "    cursor: pointer;\n",
              "    display: none;\n",
              "    fill: var(--fill-color);\n",
              "    height: 32px;\n",
              "    padding: 0;\n",
              "    width: 32px;\n",
              "  }\n",
              "\n",
              "  .colab-df-quickchart:hover {\n",
              "    background-color: var(--hover-bg-color);\n",
              "    box-shadow: 0 1px 2px rgba(60, 64, 67, 0.3), 0 1px 3px 1px rgba(60, 64, 67, 0.15);\n",
              "    fill: var(--button-hover-fill-color);\n",
              "  }\n",
              "\n",
              "  .colab-df-quickchart-complete:disabled,\n",
              "  .colab-df-quickchart-complete:disabled:hover {\n",
              "    background-color: var(--disabled-bg-color);\n",
              "    fill: var(--disabled-fill-color);\n",
              "    box-shadow: none;\n",
              "  }\n",
              "\n",
              "  .colab-df-spinner {\n",
              "    border: 2px solid var(--fill-color);\n",
              "    border-color: transparent;\n",
              "    border-bottom-color: var(--fill-color);\n",
              "    animation:\n",
              "      spin 1s steps(1) infinite;\n",
              "  }\n",
              "\n",
              "  @keyframes spin {\n",
              "    0% {\n",
              "      border-color: transparent;\n",
              "      border-bottom-color: var(--fill-color);\n",
              "      border-left-color: var(--fill-color);\n",
              "    }\n",
              "    20% {\n",
              "      border-color: transparent;\n",
              "      border-left-color: var(--fill-color);\n",
              "      border-top-color: var(--fill-color);\n",
              "    }\n",
              "    30% {\n",
              "      border-color: transparent;\n",
              "      border-left-color: var(--fill-color);\n",
              "      border-top-color: var(--fill-color);\n",
              "      border-right-color: var(--fill-color);\n",
              "    }\n",
              "    40% {\n",
              "      border-color: transparent;\n",
              "      border-right-color: var(--fill-color);\n",
              "      border-top-color: var(--fill-color);\n",
              "    }\n",
              "    60% {\n",
              "      border-color: transparent;\n",
              "      border-right-color: var(--fill-color);\n",
              "    }\n",
              "    80% {\n",
              "      border-color: transparent;\n",
              "      border-right-color: var(--fill-color);\n",
              "      border-bottom-color: var(--fill-color);\n",
              "    }\n",
              "    90% {\n",
              "      border-color: transparent;\n",
              "      border-bottom-color: var(--fill-color);\n",
              "    }\n",
              "  }\n",
              "</style>\n",
              "\n",
              "      <script>\n",
              "        async function quickchart(key) {\n",
              "          const quickchartButtonEl =\n",
              "            document.querySelector('#' + key + ' button');\n",
              "          quickchartButtonEl.disabled = true;  // To prevent multiple clicks.\n",
              "          quickchartButtonEl.classList.add('colab-df-spinner');\n",
              "          try {\n",
              "            const charts = await google.colab.kernel.invokeFunction(\n",
              "                'suggestCharts', [key], {});\n",
              "          } catch (error) {\n",
              "            console.error('Error during call to suggestCharts:', error);\n",
              "          }\n",
              "          quickchartButtonEl.classList.remove('colab-df-spinner');\n",
              "          quickchartButtonEl.classList.add('colab-df-quickchart-complete');\n",
              "        }\n",
              "        (() => {\n",
              "          let quickchartButtonEl =\n",
              "            document.querySelector('#df-6c944bd0-c3b3-40a0-8946-2b2cb2aa172c button');\n",
              "          quickchartButtonEl.style.display =\n",
              "            google.colab.kernel.accessAllowed ? 'block' : 'none';\n",
              "        })();\n",
              "      </script>\n",
              "    </div>\n",
              "\n",
              "    </div>\n",
              "  </div>\n"
            ],
            "application/vnd.google.colaboratory.intrinsic+json": {
              "type": "dataframe",
              "summary": "{\n  \"name\": \"test_df\",\n  \"rows\": 4,\n  \"fields\": [\n    {\n      \"column\": \"count\",\n      \"properties\": {\n        \"dtype\": \"number\",\n        \"std\": 330.5,\n        \"min\": 2871.0,\n        \"max\": 3532.0,\n        \"num_unique_values\": 2,\n        \"samples\": [\n          3532.0,\n          2871.0\n        ],\n        \"semantic_type\": \"\",\n        \"description\": \"\"\n      }\n    },\n    {\n      \"column\": \"mean\",\n      \"properties\": {\n        \"dtype\": \"number\",\n        \"std\": 960.6487243950696,\n        \"min\": 0.06502974561466592,\n        \"max\": 2004.9000566251416,\n        \"num_unique_values\": 4,\n        \"samples\": [\n          0.06502974561466592,\n          2004.9000566251416\n        ],\n        \"semantic_type\": \"\",\n        \"description\": \"\"\n      }\n    },\n    {\n      \"column\": \"std\",\n      \"properties\": {\n        \"dtype\": \"number\",\n        \"std\": 88.83208715887706,\n        \"min\": 0.0494537165296249,\n        \"max\": 181.89722073485268,\n        \"num_unique_values\": 4,\n        \"samples\": [\n          0.0494537165296249,\n          8.497250292221098\n        ],\n        \"semantic_type\": \"\",\n        \"description\": \"\"\n      }\n    },\n    {\n      \"column\": \"min\",\n      \"properties\": {\n        \"dtype\": \"number\",\n        \"std\": 982.8566327918414,\n        \"min\": 0.0,\n        \"max\": 1992.0,\n        \"num_unique_values\": 4,\n        \"samples\": [\n          0.0,\n          1992.0\n        ],\n        \"semantic_type\": \"\",\n        \"description\": \"\"\n      }\n    },\n    {\n      \"column\": \"25%\",\n      \"properties\": {\n        \"dtype\": \"number\",\n        \"std\": 973.5784847870151,\n        \"min\": 0.0268111345,\n        \"max\": 1994.0,\n        \"num_unique_values\": 4,\n        \"samples\": [\n          0.0268111345,\n          1994.0\n        ],\n        \"semantic_type\": \"\",\n        \"description\": \"\"\n      }\n    },\n    {\n      \"column\": \"50%\",\n      \"properties\": {\n        \"dtype\": \"number\",\n        \"std\": 967.4479344240922,\n        \"min\": 0.054444469499999995,\n        \"max\": 2006.0,\n        \"num_unique_values\": 4,\n        \"samples\": [\n          0.054444469499999995,\n          2006.0\n        ],\n        \"semantic_type\": \"\",\n        \"description\": \"\"\n      }\n    },\n    {\n      \"column\": \"75%\",\n      \"properties\": {\n        \"dtype\": \"number\",\n        \"std\": 950.1784474256461,\n        \"min\": 0.09404879399999999,\n        \"max\": 2011.0,\n        \"num_unique_values\": 4,\n        \"samples\": [\n          0.09404879399999999,\n          2011.0\n        ],\n        \"semantic_type\": \"\",\n        \"description\": \"\"\n      }\n    },\n    {\n      \"column\": \"max\",\n      \"properties\": {\n        \"dtype\": \"number\",\n        \"std\": 945.3016217059751,\n        \"min\": 0.32111501,\n        \"max\": 2016.0,\n        \"num_unique_values\": 4,\n        \"samples\": [\n          0.32111501,\n          2016.0\n        ],\n        \"semantic_type\": \"\",\n        \"description\": \"\"\n      }\n    }\n  ]\n}"
            }
          },
          "metadata": {},
          "execution_count": 15
        }
      ],
      "source": [
        "test_df.describe().T"
      ]
    },
    {
      "cell_type": "code",
      "execution_count": 16,
      "id": "8eac024d",
      "metadata": {
        "id": "8eac024d",
        "outputId": "54505d17-d67e-4fda-8e0f-9489bdb5cda8",
        "colab": {
          "base_uri": "https://localhost:8080/",
          "height": 209
        }
      },
      "outputs": [
        {
          "output_type": "execute_result",
          "data": {
            "text/plain": [
              "Item_Sugar_Content\n",
              "Low Sugar          3039\n",
              "Normal Sugar       1773\n",
              "Ultra Low Sugar     178\n",
              "Name: count, dtype: int64"
            ],
            "text/html": [
              "<div>\n",
              "<style scoped>\n",
              "    .dataframe tbody tr th:only-of-type {\n",
              "        vertical-align: middle;\n",
              "    }\n",
              "\n",
              "    .dataframe tbody tr th {\n",
              "        vertical-align: top;\n",
              "    }\n",
              "\n",
              "    .dataframe thead th {\n",
              "        text-align: right;\n",
              "    }\n",
              "</style>\n",
              "<table border=\"1\" class=\"dataframe\">\n",
              "  <thead>\n",
              "    <tr style=\"text-align: right;\">\n",
              "      <th></th>\n",
              "      <th>count</th>\n",
              "    </tr>\n",
              "    <tr>\n",
              "      <th>Item_Sugar_Content</th>\n",
              "      <th></th>\n",
              "    </tr>\n",
              "  </thead>\n",
              "  <tbody>\n",
              "    <tr>\n",
              "      <th>Low Sugar</th>\n",
              "      <td>3039</td>\n",
              "    </tr>\n",
              "    <tr>\n",
              "      <th>Normal Sugar</th>\n",
              "      <td>1773</td>\n",
              "    </tr>\n",
              "    <tr>\n",
              "      <th>Ultra Low Sugar</th>\n",
              "      <td>178</td>\n",
              "    </tr>\n",
              "  </tbody>\n",
              "</table>\n",
              "</div><br><label><b>dtype:</b> int64</label>"
            ]
          },
          "metadata": {},
          "execution_count": 16
        }
      ],
      "source": [
        "train_df.Item_Sugar_Content.value_counts()"
      ]
    },
    {
      "cell_type": "code",
      "execution_count": 17,
      "id": "1a7b62ae",
      "metadata": {
        "id": "1a7b62ae",
        "outputId": "cae6c6f9-dee8-443f-f0ef-ecca3e087f68",
        "colab": {
          "base_uri": "https://localhost:8080/",
          "height": 617
        }
      },
      "outputs": [
        {
          "output_type": "execute_result",
          "data": {
            "text/plain": [
              "Item_Type\n",
              "Snack Foods              758\n",
              "Fruits and Vegetables    747\n",
              "Household                567\n",
              "Frozen Foods             457\n",
              "Canned                   376\n",
              "Dairy                    350\n",
              "Baking Goods             344\n",
              "Health and Hygiene       307\n",
              "Meat                     264\n",
              "Soft Drinks              261\n",
              "Breads                   137\n",
              "Hard Drinks              134\n",
              "Others                   100\n",
              "Starchy Foods             81\n",
              "Breakfast                 66\n",
              "Seafood                   41\n",
              "Name: count, dtype: int64"
            ],
            "text/html": [
              "<div>\n",
              "<style scoped>\n",
              "    .dataframe tbody tr th:only-of-type {\n",
              "        vertical-align: middle;\n",
              "    }\n",
              "\n",
              "    .dataframe tbody tr th {\n",
              "        vertical-align: top;\n",
              "    }\n",
              "\n",
              "    .dataframe thead th {\n",
              "        text-align: right;\n",
              "    }\n",
              "</style>\n",
              "<table border=\"1\" class=\"dataframe\">\n",
              "  <thead>\n",
              "    <tr style=\"text-align: right;\">\n",
              "      <th></th>\n",
              "      <th>count</th>\n",
              "    </tr>\n",
              "    <tr>\n",
              "      <th>Item_Type</th>\n",
              "      <th></th>\n",
              "    </tr>\n",
              "  </thead>\n",
              "  <tbody>\n",
              "    <tr>\n",
              "      <th>Snack Foods</th>\n",
              "      <td>758</td>\n",
              "    </tr>\n",
              "    <tr>\n",
              "      <th>Fruits and Vegetables</th>\n",
              "      <td>747</td>\n",
              "    </tr>\n",
              "    <tr>\n",
              "      <th>Household</th>\n",
              "      <td>567</td>\n",
              "    </tr>\n",
              "    <tr>\n",
              "      <th>Frozen Foods</th>\n",
              "      <td>457</td>\n",
              "    </tr>\n",
              "    <tr>\n",
              "      <th>Canned</th>\n",
              "      <td>376</td>\n",
              "    </tr>\n",
              "    <tr>\n",
              "      <th>Dairy</th>\n",
              "      <td>350</td>\n",
              "    </tr>\n",
              "    <tr>\n",
              "      <th>Baking Goods</th>\n",
              "      <td>344</td>\n",
              "    </tr>\n",
              "    <tr>\n",
              "      <th>Health and Hygiene</th>\n",
              "      <td>307</td>\n",
              "    </tr>\n",
              "    <tr>\n",
              "      <th>Meat</th>\n",
              "      <td>264</td>\n",
              "    </tr>\n",
              "    <tr>\n",
              "      <th>Soft Drinks</th>\n",
              "      <td>261</td>\n",
              "    </tr>\n",
              "    <tr>\n",
              "      <th>Breads</th>\n",
              "      <td>137</td>\n",
              "    </tr>\n",
              "    <tr>\n",
              "      <th>Hard Drinks</th>\n",
              "      <td>134</td>\n",
              "    </tr>\n",
              "    <tr>\n",
              "      <th>Others</th>\n",
              "      <td>100</td>\n",
              "    </tr>\n",
              "    <tr>\n",
              "      <th>Starchy Foods</th>\n",
              "      <td>81</td>\n",
              "    </tr>\n",
              "    <tr>\n",
              "      <th>Breakfast</th>\n",
              "      <td>66</td>\n",
              "    </tr>\n",
              "    <tr>\n",
              "      <th>Seafood</th>\n",
              "      <td>41</td>\n",
              "    </tr>\n",
              "  </tbody>\n",
              "</table>\n",
              "</div><br><label><b>dtype:</b> int64</label>"
            ]
          },
          "metadata": {},
          "execution_count": 17
        }
      ],
      "source": [
        "train_df.Item_Type.value_counts()"
      ]
    },
    {
      "cell_type": "code",
      "execution_count": 18,
      "id": "dcdc82da",
      "metadata": {
        "id": "dcdc82da",
        "outputId": "5f5c3c47-85e1-4653-e35c-3db54aa3e042",
        "colab": {
          "base_uri": "https://localhost:8080/",
          "height": 209
        }
      },
      "outputs": [
        {
          "output_type": "execute_result",
          "data": {
            "text/plain": [
              "Store_Size\n",
              "Medium    1582\n",
              "Small     1364\n",
              "High       594\n",
              "Name: count, dtype: int64"
            ],
            "text/html": [
              "<div>\n",
              "<style scoped>\n",
              "    .dataframe tbody tr th:only-of-type {\n",
              "        vertical-align: middle;\n",
              "    }\n",
              "\n",
              "    .dataframe tbody tr th {\n",
              "        vertical-align: top;\n",
              "    }\n",
              "\n",
              "    .dataframe thead th {\n",
              "        text-align: right;\n",
              "    }\n",
              "</style>\n",
              "<table border=\"1\" class=\"dataframe\">\n",
              "  <thead>\n",
              "    <tr style=\"text-align: right;\">\n",
              "      <th></th>\n",
              "      <th>count</th>\n",
              "    </tr>\n",
              "    <tr>\n",
              "      <th>Store_Size</th>\n",
              "      <th></th>\n",
              "    </tr>\n",
              "  </thead>\n",
              "  <tbody>\n",
              "    <tr>\n",
              "      <th>Medium</th>\n",
              "      <td>1582</td>\n",
              "    </tr>\n",
              "    <tr>\n",
              "      <th>Small</th>\n",
              "      <td>1364</td>\n",
              "    </tr>\n",
              "    <tr>\n",
              "      <th>High</th>\n",
              "      <td>594</td>\n",
              "    </tr>\n",
              "  </tbody>\n",
              "</table>\n",
              "</div><br><label><b>dtype:</b> int64</label>"
            ]
          },
          "metadata": {},
          "execution_count": 18
        }
      ],
      "source": [
        "train_df.Store_Size.value_counts()"
      ]
    },
    {
      "cell_type": "code",
      "execution_count": 19,
      "id": "0d67fef3",
      "metadata": {
        "id": "0d67fef3",
        "outputId": "3a5b8476-1504-4a2f-da9d-2ba88e8f016f",
        "colab": {
          "base_uri": "https://localhost:8080/",
          "height": 209
        }
      },
      "outputs": [
        {
          "output_type": "execute_result",
          "data": {
            "text/plain": [
              "Store_Size\n",
              "Medium    1211\n",
              "Small     1024\n",
              "High       338\n",
              "Name: count, dtype: int64"
            ],
            "text/html": [
              "<div>\n",
              "<style scoped>\n",
              "    .dataframe tbody tr th:only-of-type {\n",
              "        vertical-align: middle;\n",
              "    }\n",
              "\n",
              "    .dataframe tbody tr th {\n",
              "        vertical-align: top;\n",
              "    }\n",
              "\n",
              "    .dataframe thead th {\n",
              "        text-align: right;\n",
              "    }\n",
              "</style>\n",
              "<table border=\"1\" class=\"dataframe\">\n",
              "  <thead>\n",
              "    <tr style=\"text-align: right;\">\n",
              "      <th></th>\n",
              "      <th>count</th>\n",
              "    </tr>\n",
              "    <tr>\n",
              "      <th>Store_Size</th>\n",
              "      <th></th>\n",
              "    </tr>\n",
              "  </thead>\n",
              "  <tbody>\n",
              "    <tr>\n",
              "      <th>Medium</th>\n",
              "      <td>1211</td>\n",
              "    </tr>\n",
              "    <tr>\n",
              "      <th>Small</th>\n",
              "      <td>1024</td>\n",
              "    </tr>\n",
              "    <tr>\n",
              "      <th>High</th>\n",
              "      <td>338</td>\n",
              "    </tr>\n",
              "  </tbody>\n",
              "</table>\n",
              "</div><br><label><b>dtype:</b> int64</label>"
            ]
          },
          "metadata": {},
          "execution_count": 19
        }
      ],
      "source": [
        "test_df.Store_Size.value_counts()"
      ]
    },
    {
      "cell_type": "code",
      "execution_count": 20,
      "id": "6ba2f53a",
      "metadata": {
        "id": "6ba2f53a",
        "outputId": "fb1eb9be-220c-4c90-d602-895b97ebe135",
        "colab": {
          "base_uri": "https://localhost:8080/",
          "height": 209
        }
      },
      "outputs": [
        {
          "output_type": "execute_result",
          "data": {
            "text/plain": [
              "Store_Location_Type\n",
              "Cluster 3    1940\n",
              "Cluster 2    1581\n",
              "Cluster 1    1469\n",
              "Name: count, dtype: int64"
            ],
            "text/html": [
              "<div>\n",
              "<style scoped>\n",
              "    .dataframe tbody tr th:only-of-type {\n",
              "        vertical-align: middle;\n",
              "    }\n",
              "\n",
              "    .dataframe tbody tr th {\n",
              "        vertical-align: top;\n",
              "    }\n",
              "\n",
              "    .dataframe thead th {\n",
              "        text-align: right;\n",
              "    }\n",
              "</style>\n",
              "<table border=\"1\" class=\"dataframe\">\n",
              "  <thead>\n",
              "    <tr style=\"text-align: right;\">\n",
              "      <th></th>\n",
              "      <th>count</th>\n",
              "    </tr>\n",
              "    <tr>\n",
              "      <th>Store_Location_Type</th>\n",
              "      <th></th>\n",
              "    </tr>\n",
              "  </thead>\n",
              "  <tbody>\n",
              "    <tr>\n",
              "      <th>Cluster 3</th>\n",
              "      <td>1940</td>\n",
              "    </tr>\n",
              "    <tr>\n",
              "      <th>Cluster 2</th>\n",
              "      <td>1581</td>\n",
              "    </tr>\n",
              "    <tr>\n",
              "      <th>Cluster 1</th>\n",
              "      <td>1469</td>\n",
              "    </tr>\n",
              "  </tbody>\n",
              "</table>\n",
              "</div><br><label><b>dtype:</b> int64</label>"
            ]
          },
          "metadata": {},
          "execution_count": 20
        }
      ],
      "source": [
        "train_df.Store_Location_Type.value_counts()"
      ]
    },
    {
      "cell_type": "code",
      "execution_count": 21,
      "id": "63fff967",
      "metadata": {
        "id": "63fff967",
        "outputId": "caf00d87-39be-4d85-89eb-6731a13eb664",
        "colab": {
          "base_uri": "https://localhost:8080/",
          "height": 241
        }
      },
      "outputs": [
        {
          "output_type": "execute_result",
          "data": {
            "text/plain": [
              "Store_Type\n",
              "Supermarket Type1    3304\n",
              "Grocery Store         724\n",
              "Supermarket Type2     500\n",
              "Supermarket Type3     462\n",
              "Name: count, dtype: int64"
            ],
            "text/html": [
              "<div>\n",
              "<style scoped>\n",
              "    .dataframe tbody tr th:only-of-type {\n",
              "        vertical-align: middle;\n",
              "    }\n",
              "\n",
              "    .dataframe tbody tr th {\n",
              "        vertical-align: top;\n",
              "    }\n",
              "\n",
              "    .dataframe thead th {\n",
              "        text-align: right;\n",
              "    }\n",
              "</style>\n",
              "<table border=\"1\" class=\"dataframe\">\n",
              "  <thead>\n",
              "    <tr style=\"text-align: right;\">\n",
              "      <th></th>\n",
              "      <th>count</th>\n",
              "    </tr>\n",
              "    <tr>\n",
              "      <th>Store_Type</th>\n",
              "      <th></th>\n",
              "    </tr>\n",
              "  </thead>\n",
              "  <tbody>\n",
              "    <tr>\n",
              "      <th>Supermarket Type1</th>\n",
              "      <td>3304</td>\n",
              "    </tr>\n",
              "    <tr>\n",
              "      <th>Grocery Store</th>\n",
              "      <td>724</td>\n",
              "    </tr>\n",
              "    <tr>\n",
              "      <th>Supermarket Type2</th>\n",
              "      <td>500</td>\n",
              "    </tr>\n",
              "    <tr>\n",
              "      <th>Supermarket Type3</th>\n",
              "      <td>462</td>\n",
              "    </tr>\n",
              "  </tbody>\n",
              "</table>\n",
              "</div><br><label><b>dtype:</b> int64</label>"
            ]
          },
          "metadata": {},
          "execution_count": 21
        }
      ],
      "source": [
        "train_df.Store_Type.value_counts()"
      ]
    },
    {
      "cell_type": "markdown",
      "source": [
        "### **checking for outliers**"
      ],
      "metadata": {
        "id": "NeucPk80YeJR"
      },
      "id": "NeucPk80YeJR"
    },
    {
      "cell_type": "code",
      "execution_count": 22,
      "id": "bec66826",
      "metadata": {
        "id": "bec66826"
      },
      "outputs": [],
      "source": [
        "def Box_plots(free):\n",
        "    plt.figure(figsize=(10, 4))\n",
        "    plt.title('Box Plot')\n",
        "    sns.boxplot(free)\n",
        "    plt.show()"
      ]
    },
    {
      "cell_type": "code",
      "execution_count": 23,
      "id": "c0d829f4",
      "metadata": {
        "id": "c0d829f4",
        "outputId": "f4915b40-6f1b-4a97-b8be-d1f37874be9f",
        "colab": {
          "base_uri": "https://localhost:8080/",
          "height": 146
        }
      },
      "outputs": [
        {
          "output_type": "display_data",
          "data": {
            "text/plain": [
              "<Figure size 1000x400 with 1 Axes>"
            ],
            "image/png": "[encoded data removed]"
          },
          "metadata": {}
        }
      ],
      "source": [
        "Box_plots(train_df['Item_Weight'])"
      ]
    },
    {
      "cell_type": "code",
      "execution_count": 24,
      "id": "c388e9f6",
      "metadata": {
        "id": "c388e9f6",
        "outputId": "25352375-e581-45f3-9b04-c813171c1c62",
        "colab": {
          "base_uri": "https://localhost:8080/",
          "height": 146
        }
      },
      "outputs": [
        {
          "output_type": "display_data",
          "data": {
            "text/plain": [
              "<Figure size 1000x400 with 1 Axes>"
            ],
            "image/png": "[encoded data removed]"
          },
          "metadata": {}
        }
      ],
      "source": [
        "Box_plots(train_df['Item_Visibility'])"
      ]
    },
    {
      "cell_type": "code",
      "execution_count": 25,
      "id": "36ed430d",
      "metadata": {
        "id": "36ed430d",
        "outputId": "c3999eb7-3a36-4918-9474-51f1ef0f11c4",
        "colab": {
          "base_uri": "https://localhost:8080/",
          "height": 147
        }
      },
      "outputs": [
        {
          "output_type": "display_data",
          "data": {
            "text/plain": [
              "<Figure size 1000x400 with 1 Axes>"
            ],
            "image/png": "[encoded data removed]"
          },
          "metadata": {}
        }
      ],
      "source": [
        "Box_plots(train_df['Item_Price'])"
      ]
    },
    {
      "cell_type": "code",
      "execution_count": 26,
      "id": "1990cca7",
      "metadata": {
        "id": "1990cca7",
        "outputId": "b28f4076-fc34-4f85-bf6d-be0430a9ce0f",
        "colab": {
          "base_uri": "https://localhost:8080/",
          "height": 146
        }
      },
      "outputs": [
        {
          "output_type": "display_data",
          "data": {
            "text/plain": [
              "<Figure size 1000x400 with 1 Axes>"
            ],
            "image/png": "[encoded data removed]"
          },
          "metadata": {}
        }
      ],
      "source": [
        "Box_plots(train_df['Store_Start_Year'])"
      ]
    },
    {
      "cell_type": "code",
      "execution_count": 27,
      "id": "40dff641",
      "metadata": {
        "id": "40dff641",
        "outputId": "001bee0c-8a5f-427c-fc27-0bdfe450830f",
        "colab": {
          "base_uri": "https://localhost:8080/",
          "height": 144
        }
      },
      "outputs": [
        {
          "output_type": "display_data",
          "data": {
            "text/plain": [
              "<Figure size 1000x400 with 1 Axes>"
            ],
            "image/png": "[encoded data removed]"
          },
          "metadata": {}
        }
      ],
      "source": [
        "Box_plots(train_df['Item_Store_Returns'])"
      ]
    },
    {
      "cell_type": "markdown",
      "source": [
        "### **fill missing values**"
      ],
      "metadata": {
        "id": "HtyolRLHYwgD"
      },
      "id": "HtyolRLHYwgD"
    },
    {
      "cell_type": "code",
      "execution_count": 28,
      "id": "b4e2fa1a",
      "metadata": {
        "id": "b4e2fa1a",
        "outputId": "38995486-6f4c-4ea3-b104-9dfd1a076926",
        "colab": {
          "base_uri": "https://localhost:8080/"
        }
      },
      "outputs": [
        {
          "output_type": "execute_result",
          "data": {
            "text/plain": [
              "12.6"
            ]
          },
          "metadata": {},
          "execution_count": 28
        }
      ],
      "source": [
        "train_df.Item_Weight.median()"
      ]
    },
    {
      "cell_type": "code",
      "execution_count": 29,
      "id": "db7fd01e",
      "metadata": {
        "id": "db7fd01e"
      },
      "outputs": [],
      "source": [
        "train_df['Item_Weight'] = train_df.Item_Weight.fillna(train_df.Item_Weight.median())"
      ]
    },
    {
      "cell_type": "code",
      "execution_count": 30,
      "id": "3bf1f77d",
      "metadata": {
        "id": "3bf1f77d"
      },
      "outputs": [],
      "source": [
        "test_df['Item_Weight'] = test_df.Item_Weight.fillna(train_df.Item_Weight.median())"
      ]
    },
    {
      "cell_type": "code",
      "execution_count": 31,
      "id": "950d7274",
      "metadata": {
        "id": "950d7274",
        "outputId": "428bcf35-9835-4e77-fa6f-343b7b95fe23",
        "colab": {
          "base_uri": "https://localhost:8080/"
        }
      },
      "outputs": [
        {
          "output_type": "stream",
          "name": "stderr",
          "text": [
            "/tmp/ipython-input-31-2180434163.py:1: FutureWarning: Series.fillna with 'method' is deprecated and will raise in a future version. Use obj.ffill() or obj.bfill() instead.\n",
            "  train_df['Store_Size'] = train_df.Store_Size.fillna(method=\"bfill\")\n"
          ]
        }
      ],
      "source": [
        "train_df['Store_Size'] = train_df.Store_Size.fillna(method=\"bfill\")"
      ]
    },
    {
      "cell_type": "code",
      "execution_count": 32,
      "id": "6a7b8b74",
      "metadata": {
        "id": "6a7b8b74",
        "outputId": "fe2d18e4-f46b-4cf5-f28a-2f01174dc67e",
        "colab": {
          "base_uri": "https://localhost:8080/"
        }
      },
      "outputs": [
        {
          "output_type": "stream",
          "name": "stderr",
          "text": [
            "/tmp/ipython-input-32-1230688840.py:1: FutureWarning: Series.fillna with 'method' is deprecated and will raise in a future version. Use obj.ffill() or obj.bfill() instead.\n",
            "  test_df['Store_Size'] = test_df.Store_Size.fillna(method=\"bfill\")\n"
          ]
        }
      ],
      "source": [
        "test_df['Store_Size'] = test_df.Store_Size.fillna(method=\"bfill\")"
      ]
    },
    {
      "cell_type": "markdown",
      "source": [
        "### **import preprocessing and data modelling packages**"
      ],
      "metadata": {
        "id": "-Z8a-fCAZAvs"
      },
      "id": "-Z8a-fCAZAvs"
    },
    {
      "cell_type": "code",
      "execution_count": 33,
      "id": "d69f7068",
      "metadata": {
        "id": "d69f7068"
      },
      "outputs": [],
      "source": [
        "from sklearn.preprocessing import RobustScaler, QuantileTransformer, PowerTransformer, Normalizer, FunctionTransformer, StandardScaler, OneHotEncoder, LabelEncoder, OrdinalEncoder\n",
        "from sklearn.compose import ColumnTransformer\n",
        "from sklearn.pipeline import Pipeline\n",
        "from sklearn.model_selection import train_test_split, GridSearchCV, StratifiedKFold\n",
        "from sklearn.neighbors import KNeighborsRegressor\n",
        "from sklearn.linear_model import LinearRegression\n",
        "from sklearn.ensemble import RandomForestRegressor, GradientBoostingRegressor, VotingRegressor\n",
        "from sklearn.tree import DecisionTreeRegressor\n",
        "from sklearn.metrics import mean_squared_error"
      ]
    },
    {
      "cell_type": "code",
      "execution_count": 34,
      "id": "ed775b5f",
      "metadata": {
        "id": "ed775b5f",
        "outputId": "2d14ed7c-9763-48f6-9498-f9dacba1ea44",
        "colab": {
          "base_uri": "https://localhost:8080/"
        }
      },
      "outputs": [
        {
          "output_type": "execute_result",
          "data": {
            "text/plain": [
              "Index(['Item_ID', 'Store_ID', 'Item_Store_ID', 'Item_Weight',\n",
              "       'Item_Sugar_Content', 'Item_Visibility', 'Item_Type', 'Item_Price',\n",
              "       'Store_Start_Year', 'Store_Size', 'Store_Location_Type', 'Store_Type',\n",
              "       'Item_Store_Returns'],\n",
              "      dtype='object')"
            ]
          },
          "metadata": {},
          "execution_count": 34
        }
      ],
      "source": [
        "train_df.columns"
      ]
    },
    {
      "cell_type": "code",
      "execution_count": 35,
      "id": "fac22bc8",
      "metadata": {
        "id": "fac22bc8"
      },
      "outputs": [],
      "source": [
        "X = train_df.drop(['Item_ID', 'Store_ID', 'Item_Store_ID', 'Item_Store_Returns'], axis=1)\n",
        "y = train_df['Item_Store_Returns']"
      ]
    },
    {
      "cell_type": "code",
      "execution_count": 36,
      "id": "abc14e61",
      "metadata": {
        "id": "abc14e61",
        "outputId": "ddd05051-ddbb-40ab-af6e-ba7687802313",
        "colab": {
          "base_uri": "https://localhost:8080/"
        }
      },
      "outputs": [
        {
          "output_type": "execute_result",
          "data": {
            "text/plain": [
              "(4990, 9)"
            ]
          },
          "metadata": {},
          "execution_count": 36
        }
      ],
      "source": [
        "X.shape"
      ]
    },
    {
      "cell_type": "code",
      "execution_count": 37,
      "id": "52aee0ba",
      "metadata": {
        "id": "52aee0ba",
        "outputId": "97f6cca5-af8f-429e-815b-e7ed91017ec5",
        "colab": {
          "base_uri": "https://localhost:8080/"
        }
      },
      "outputs": [
        {
          "output_type": "execute_result",
          "data": {
            "text/plain": [
              "(4990,)"
            ]
          },
          "metadata": {},
          "execution_count": 37
        }
      ],
      "source": [
        "y.shape"
      ]
    },
    {
      "cell_type": "code",
      "execution_count": 38,
      "id": "979fca8f",
      "metadata": {
        "id": "979fca8f"
      },
      "outputs": [],
      "source": [
        "test_df_1 = test_df.drop(['Item_ID', 'Store_ID', 'Item_Store_ID'], axis=1)"
      ]
    },
    {
      "cell_type": "code",
      "execution_count": 39,
      "id": "0beb3801",
      "metadata": {
        "id": "0beb3801"
      },
      "outputs": [],
      "source": [
        "num_features = ['Item_Weight', 'Item_Visibility', 'Item_Price', 'Store_Start_Year']"
      ]
    },
    {
      "cell_type": "code",
      "execution_count": 40,
      "id": "039683a6",
      "metadata": {
        "id": "039683a6"
      },
      "outputs": [],
      "source": [
        "ohe_features = ['Item_Sugar_Content', 'Store_Size', 'Store_Location_Type', 'Store_Type']"
      ]
    },
    {
      "cell_type": "code",
      "execution_count": 41,
      "id": "0bfef101",
      "metadata": {
        "id": "0bfef101"
      },
      "outputs": [],
      "source": [
        "ord_features = ['Item_Type']"
      ]
    },
    {
      "cell_type": "code",
      "execution_count": 42,
      "id": "f3e418e8",
      "metadata": {
        "id": "f3e418e8"
      },
      "outputs": [],
      "source": [
        "ord_features_1 = ['Item_Sugar_Content', 'Item_Type', 'Store_Size', 'Store_Location_Type', 'Store_Type']"
      ]
    },
    {
      "cell_type": "markdown",
      "source": [
        "### **create a pipeline for training and testing**"
      ],
      "metadata": {
        "id": "ZaVwp7vZZt7A"
      },
      "id": "ZaVwp7vZZt7A"
    },
    {
      "cell_type": "code",
      "execution_count": 43,
      "id": "f22f53f7",
      "metadata": {
        "id": "f22f53f7"
      },
      "outputs": [],
      "source": [
        "preprocessor = ColumnTransformer(transformers=[\n",
        "    ('ord_encode', OrdinalEncoder(), ord_features_1),\n",
        "    #('ohe_encode', OneHotEncoder(drop='first'), ohe_features),\n",
        "    ('std_scale', StandardScaler(), num_features),\n",
        "    (\"qt_scale\", QuantileTransformer(), num_features),\n",
        "    ('pt', PowerTransformer(), num_features)],\n",
        "                                 remainder='passthrough')"
      ]
    },
    {
      "cell_type": "markdown",
      "source": [
        "### **split data into train and test set**"
      ],
      "metadata": {
        "id": "JBni1aFJZ8mH"
      },
      "id": "JBni1aFJZ8mH"
    },
    {
      "cell_type": "code",
      "execution_count": 44,
      "id": "776a2802",
      "metadata": {
        "id": "776a2802"
      },
      "outputs": [],
      "source": [
        "X_train, X_test, y_train, y_test = train_test_split(X, y, test_size=0.25, random_state=42)"
      ]
    },
    {
      "cell_type": "markdown",
      "source": [
        "### **instantiate model and pipeline**"
      ],
      "metadata": {
        "id": "36gYzkJgaHGn"
      },
      "id": "36gYzkJgaHGn"
    },
    {
      "cell_type": "code",
      "execution_count": 45,
      "id": "0a68ab9e",
      "metadata": {
        "id": "0a68ab9e"
      },
      "outputs": [],
      "source": [
        "linreg = LinearRegression(n_jobs=-1)"
      ]
    },
    {
      "cell_type": "code",
      "execution_count": 46,
      "id": "4aecc254",
      "metadata": {
        "id": "4aecc254"
      },
      "outputs": [],
      "source": [
        "pipeline = Pipeline(steps=[('preprocessor', preprocessor),\n",
        "                           ('lr_model', linreg)])"
      ]
    },
    {
      "cell_type": "markdown",
      "source": [
        "### **fit model**"
      ],
      "metadata": {
        "id": "hiEoslFaaWcF"
      },
      "id": "hiEoslFaaWcF"
    },
    {
      "cell_type": "code",
      "execution_count": 47,
      "id": "7593a34e",
      "metadata": {
        "id": "7593a34e",
        "outputId": "32d919dd-312d-4956-8392-b3b9312ebacb",
        "colab": {
          "base_uri": "https://localhost:8080/",
          "height": 336
        }
      },
      "outputs": [
        {
          "output_type": "stream",
          "name": "stderr",
          "text": [
            "/usr/local/lib/python3.11/dist-packages/numpy/_core/_methods.py:188: RuntimeWarning: overflow encountered in multiply\n",
            "  x = um.multiply(x, x, out=x)\n",
            "/usr/local/lib/python3.11/dist-packages/numpy/_core/_methods.py:199: RuntimeWarning: overflow encountered in reduce\n",
            "  ret = umr_sum(x, axis, dtype, out, keepdims=keepdims, where=where)\n"
          ]
        },
        {
          "output_type": "execute_result",
          "data": {
            "text/plain": [
              "Pipeline(steps=[('preprocessor',\n",
              "                 ColumnTransformer(remainder='passthrough',\n",
              "                                   transformers=[('ord_encode',\n",
              "                                                  OrdinalEncoder(),\n",
              "                                                  ['Item_Sugar_Content',\n",
              "                                                   'Item_Type', 'Store_Size',\n",
              "                                                   'Store_Location_Type',\n",
              "                                                   'Store_Type']),\n",
              "                                                 ('std_scale', StandardScaler(),\n",
              "                                                  ['Item_Weight',\n",
              "                                                   'Item_Visibility',\n",
              "                                                   'Item_Price',\n",
              "                                                   'Store_Start_Year']),\n",
              "                                                 ('qt_scale',\n",
              "                                                  QuantileTransformer(),\n",
              "                                                  ['Item_Weight',\n",
              "                                                   'Item_Visibility',\n",
              "                                                   'Item_Price',\n",
              "                                                   'Store_Start_Year']),\n",
              "                                                 ('pt', PowerTransformer(),\n",
              "                                                  ['Item_Weight',\n",
              "                                                   'Item_Visibility',\n",
              "                                                   'Item_Price',\n",
              "                                                   'Store_Start_Year'])])),\n",
              "                ('lr_model', LinearRegression(n_jobs=-1))])"
            ],
            "text/html": [
              "<style>#sk-container-id-1 {\n",
              "  /* Definition of color scheme common for light and dark mode */\n",
              "  --sklearn-color-text: #000;\n",
              "  --sklearn-color-text-muted: #666;\n",
              "  --sklearn-color-line: gray;\n",
              "  /* Definition of color scheme for unfitted estimators */\n",
              "  --sklearn-color-unfitted-level-0: #fff5e6;\n",
              "  --sklearn-color-unfitted-level-1: #f6e4d2;\n",
              "  --sklearn-color-unfitted-level-2: #ffe0b3;\n",
              "  --sklearn-color-unfitted-level-3: chocolate;\n",
              "  /* Definition of color scheme for fitted estimators */\n",
              "  --sklearn-color-fitted-level-0: #f0f8ff;\n",
              "  --sklearn-color-fitted-level-1: #d4ebff;\n",
              "  --sklearn-color-fitted-level-2: #b3dbfd;\n",
              "  --sklearn-color-fitted-level-3: cornflowerblue;\n",
              "\n",
              "  /* Specific color for light theme */\n",
              "  --sklearn-color-text-on-default-background: var(--sg-text-color, var(--theme-code-foreground, var(--jp-content-font-color1, black)));\n",
              "  --sklearn-color-background: var(--sg-background-color, var(--theme-background, var(--jp-layout-color0, white)));\n",
              "  --sklearn-color-border-box: var(--sg-text-color, var(--theme-code-foreground, var(--jp-content-font-color1, black)));\n",
              "  --sklearn-color-icon: #696969;\n",
              "\n",
              "  @media (prefers-color-scheme: dark) {\n",
              "    /* Redefinition of color scheme for dark theme */\n",
              "    --sklearn-color-text-on-default-background: var(--sg-text-color, var(--theme-code-foreground, var(--jp-content-font-color1, white)));\n",
              "    --sklearn-color-background: var(--sg-background-color, var(--theme-background, var(--jp-layout-color0, #111)));\n",
              "    --sklearn-color-border-box: var(--sg-text-color, var(--theme-code-foreground, var(--jp-content-font-color1, white)));\n",
              "    --sklearn-color-icon: #878787;\n",
              "  }\n",
              "}\n",
              "\n",
              "#sk-container-id-1 {\n",
              "  color: var(--sklearn-color-text);\n",
              "}\n",
              "\n",
              "#sk-container-id-1 pre {\n",
              "  padding: 0;\n",
              "}\n",
              "\n",
              "#sk-container-id-1 input.sk-hidden--visually {\n",
              "  border: 0;\n",
              "  clip: rect(1px 1px 1px 1px);\n",
              "  clip: rect(1px, 1px, 1px, 1px);\n",
              "  height: 1px;\n",
              "  margin: -1px;\n",
              "  overflow: hidden;\n",
              "  padding: 0;\n",
              "  position: absolute;\n",
              "  width: 1px;\n",
              "}\n",
              "\n",
              "#sk-container-id-1 div.sk-dashed-wrapped {\n",
              "  border: 1px dashed var(--sklearn-color-line);\n",
              "  margin: 0 0.4em 0.5em 0.4em;\n",
              "  box-sizing: border-box;\n",
              "  padding-bottom: 0.4em;\n",
              "  background-color: var(--sklearn-color-background);\n",
              "}\n",
              "\n",
              "#sk-container-id-1 div.sk-container {\n",
              "  /* jupyter's `normalize.less` sets `[hidden] { display: none; }`\n",
              "     but bootstrap.min.css set `[hidden] { display: none !important; }`\n",
              "     so we also need the `!important` here to be able to override the\n",
              "     default hidden behavior on the sphinx rendered scikit-learn.org.\n",
              "     See: https://github.com/scikit-learn/scikit-learn/issues/21755 */\n",
              "  display: inline-block !important;\n",
              "  position: relative;\n",
              "}\n",
              "\n",
              "#sk-container-id-1 div.sk-text-repr-fallback {\n",
              "  display: none;\n",
              "}\n",
              "\n",
              "div.sk-parallel-item,\n",
              "div.sk-serial,\n",
              "div.sk-item {\n",
              "  /* draw centered vertical line to link estimators */\n",
              "  background-image: linear-gradient(var(--sklearn-color-text-on-default-background), var(--sklearn-color-text-on-default-background));\n",
              "  background-size: 2px 100%;\n",
              "  background-repeat: no-repeat;\n",
              "  background-position: center center;\n",
              "}\n",
              "\n",
              "/* Parallel-specific style estimator block */\n",
              "\n",
              "#sk-container-id-1 div.sk-parallel-item::after {\n",
              "  content: \"\";\n",
              "  width: 100%;\n",
              "  border-bottom: 2px solid var(--sklearn-color-text-on-default-background);\n",
              "  flex-grow: 1;\n",
              "}\n",
              "\n",
              "#sk-container-id-1 div.sk-parallel {\n",
              "  display: flex;\n",
              "  align-items: stretch;\n",
              "  justify-content: center;\n",
              "  background-color: var(--sklearn-color-background);\n",
              "  position: relative;\n",
              "}\n",
              "\n",
              "#sk-container-id-1 div.sk-parallel-item {\n",
              "  display: flex;\n",
              "  flex-direction: column;\n",
              "}\n",
              "\n",
              "#sk-container-id-1 div.sk-parallel-item:first-child::after {\n",
              "  align-self: flex-end;\n",
              "  width: 50%;\n",
              "}\n",
              "\n",
              "#sk-container-id-1 div.sk-parallel-item:last-child::after {\n",
              "  align-self: flex-start;\n",
              "  width: 50%;\n",
              "}\n",
              "\n",
              "#sk-container-id-1 div.sk-parallel-item:only-child::after {\n",
              "  width: 0;\n",
              "}\n",
              "\n",
              "/* Serial-specific style estimator block */\n",
              "\n",
              "#sk-container-id-1 div.sk-serial {\n",
              "  display: flex;\n",
              "  flex-direction: column;\n",
              "  align-items: center;\n",
              "  background-color: var(--sklearn-color-background);\n",
              "  padding-right: 1em;\n",
              "  padding-left: 1em;\n",
              "}\n",
              "\n",
              "\n",
              "/* Toggleable style: style used for estimator/Pipeline/ColumnTransformer box that is\n",
              "clickable and can be expanded/collapsed.\n",
              "- Pipeline and ColumnTransformer use this feature and define the default style\n",
              "- Estimators will overwrite some part of the style using the `sk-estimator` class\n",
              "*/\n",
              "\n",
              "/* Pipeline and ColumnTransformer style (default) */\n",
              "\n",
              "#sk-container-id-1 div.sk-toggleable {\n",
              "  /* Default theme specific background. It is overwritten whether we have a\n",
              "  specific estimator or a Pipeline/ColumnTransformer */\n",
              "  background-color: var(--sklearn-color-background);\n",
              "}\n",
              "\n",
              "/* Toggleable label */\n",
              "#sk-container-id-1 label.sk-toggleable__label {\n",
              "  cursor: pointer;\n",
              "  display: flex;\n",
              "  width: 100%;\n",
              "  margin-bottom: 0;\n",
              "  padding: 0.5em;\n",
              "  box-sizing: border-box;\n",
              "  text-align: center;\n",
              "  align-items: start;\n",
              "  justify-content: space-between;\n",
              "  gap: 0.5em;\n",
              "}\n",
              "\n",
              "#sk-container-id-1 label.sk-toggleable__label .caption {\n",
              "  font-size: 0.6rem;\n",
              "  font-weight: lighter;\n",
              "  color: var(--sklearn-color-text-muted);\n",
              "}\n",
              "\n",
              "#sk-container-id-1 label.sk-toggleable__label-arrow:before {\n",
              "  /* Arrow on the left of the label */\n",
              "  content: \"▸\";\n",
              "  float: left;\n",
              "  margin-right: 0.25em;\n",
              "  color: var(--sklearn-color-icon);\n",
              "}\n",
              "\n",
              "#sk-container-id-1 label.sk-toggleable__label-arrow:hover:before {\n",
              "  color: var(--sklearn-color-text);\n",
              "}\n",
              "\n",
              "/* Toggleable content - dropdown */\n",
              "\n",
              "#sk-container-id-1 div.sk-toggleable__content {\n",
              "  max-height: 0;\n",
              "  max-width: 0;\n",
              "  overflow: hidden;\n",
              "  text-align: left;\n",
              "  /* unfitted */\n",
              "  background-color: var(--sklearn-color-unfitted-level-0);\n",
              "}\n",
              "\n",
              "#sk-container-id-1 div.sk-toggleable__content.fitted {\n",
              "  /* fitted */\n",
              "  background-color: var(--sklearn-color-fitted-level-0);\n",
              "}\n",
              "\n",
              "#sk-container-id-1 div.sk-toggleable__content pre {\n",
              "  margin: 0.2em;\n",
              "  border-radius: 0.25em;\n",
              "  color: var(--sklearn-color-text);\n",
              "  /* unfitted */\n",
              "  background-color: var(--sklearn-color-unfitted-level-0);\n",
              "}\n",
              "\n",
              "#sk-container-id-1 div.sk-toggleable__content.fitted pre {\n",
              "  /* unfitted */\n",
              "  background-color: var(--sklearn-color-fitted-level-0);\n",
              "}\n",
              "\n",
              "#sk-container-id-1 input.sk-toggleable__control:checked~div.sk-toggleable__content {\n",
              "  /* Expand drop-down */\n",
              "  max-height: 200px;\n",
              "  max-width: 100%;\n",
              "  overflow: auto;\n",
              "}\n",
              "\n",
              "#sk-container-id-1 input.sk-toggleable__control:checked~label.sk-toggleable__label-arrow:before {\n",
              "  content: \"▾\";\n",
              "}\n",
              "\n",
              "/* Pipeline/ColumnTransformer-specific style */\n",
              "\n",
              "#sk-container-id-1 div.sk-label input.sk-toggleable__control:checked~label.sk-toggleable__label {\n",
              "  color: var(--sklearn-color-text);\n",
              "  background-color: var(--sklearn-color-unfitted-level-2);\n",
              "}\n",
              "\n",
              "#sk-container-id-1 div.sk-label.fitted input.sk-toggleable__control:checked~label.sk-toggleable__label {\n",
              "  background-color: var(--sklearn-color-fitted-level-2);\n",
              "}\n",
              "\n",
              "/* Estimator-specific style */\n",
              "\n",
              "/* Colorize estimator box */\n",
              "#sk-container-id-1 div.sk-estimator input.sk-toggleable__control:checked~label.sk-toggleable__label {\n",
              "  /* unfitted */\n",
              "  background-color: var(--sklearn-color-unfitted-level-2);\n",
              "}\n",
              "\n",
              "#sk-container-id-1 div.sk-estimator.fitted input.sk-toggleable__control:checked~label.sk-toggleable__label {\n",
              "  /* fitted */\n",
              "  background-color: var(--sklearn-color-fitted-level-2);\n",
              "}\n",
              "\n",
              "#sk-container-id-1 div.sk-label label.sk-toggleable__label,\n",
              "#sk-container-id-1 div.sk-label label {\n",
              "  /* The background is the default theme color */\n",
              "  color: var(--sklearn-color-text-on-default-background);\n",
              "}\n",
              "\n",
              "/* On hover, darken the color of the background */\n",
              "#sk-container-id-1 div.sk-label:hover label.sk-toggleable__label {\n",
              "  color: var(--sklearn-color-text);\n",
              "  background-color: var(--sklearn-color-unfitted-level-2);\n",
              "}\n",
              "\n",
              "/* Label box, darken color on hover, fitted */\n",
              "#sk-container-id-1 div.sk-label.fitted:hover label.sk-toggleable__label.fitted {\n",
              "  color: var(--sklearn-color-text);\n",
              "  background-color: var(--sklearn-color-fitted-level-2);\n",
              "}\n",
              "\n",
              "/* Estimator label */\n",
              "\n",
              "#sk-container-id-1 div.sk-label label {\n",
              "  font-family: monospace;\n",
              "  font-weight: bold;\n",
              "  display: inline-block;\n",
              "  line-height: 1.2em;\n",
              "}\n",
              "\n",
              "#sk-container-id-1 div.sk-label-container {\n",
              "  text-align: center;\n",
              "}\n",
              "\n",
              "/* Estimator-specific */\n",
              "#sk-container-id-1 div.sk-estimator {\n",
              "  font-family: monospace;\n",
              "  border: 1px dotted var(--sklearn-color-border-box);\n",
              "  border-radius: 0.25em;\n",
              "  box-sizing: border-box;\n",
              "  margin-bottom: 0.5em;\n",
              "  /* unfitted */\n",
              "  background-color: var(--sklearn-color-unfitted-level-0);\n",
              "}\n",
              "\n",
              "#sk-container-id-1 div.sk-estimator.fitted {\n",
              "  /* fitted */\n",
              "  background-color: var(--sklearn-color-fitted-level-0);\n",
              "}\n",
              "\n",
              "/* on hover */\n",
              "#sk-container-id-1 div.sk-estimator:hover {\n",
              "  /* unfitted */\n",
              "  background-color: var(--sklearn-color-unfitted-level-2);\n",
              "}\n",
              "\n",
              "#sk-container-id-1 div.sk-estimator.fitted:hover {\n",
              "  /* fitted */\n",
              "  background-color: var(--sklearn-color-fitted-level-2);\n",
              "}\n",
              "\n",
              "/* Specification for estimator info (e.g. \"i\" and \"?\") */\n",
              "\n",
              "/* Common style for \"i\" and \"?\" */\n",
              "\n",
              ".sk-estimator-doc-link,\n",
              "a:link.sk-estimator-doc-link,\n",
              "a:visited.sk-estimator-doc-link {\n",
              "  float: right;\n",
              "  font-size: smaller;\n",
              "  line-height: 1em;\n",
              "  font-family: monospace;\n",
              "  background-color: var(--sklearn-color-background);\n",
              "  border-radius: 1em;\n",
              "  height: 1em;\n",
              "  width: 1em;\n",
              "  text-decoration: none !important;\n",
              "  margin-left: 0.5em;\n",
              "  text-align: center;\n",
              "  /* unfitted */\n",
              "  border: var(--sklearn-color-unfitted-level-1) 1pt solid;\n",
              "  color: var(--sklearn-color-unfitted-level-1);\n",
              "}\n",
              "\n",
              ".sk-estimator-doc-link.fitted,\n",
              "a:link.sk-estimator-doc-link.fitted,\n",
              "a:visited.sk-estimator-doc-link.fitted {\n",
              "  /* fitted */\n",
              "  border: var(--sklearn-color-fitted-level-1) 1pt solid;\n",
              "  color: var(--sklearn-color-fitted-level-1);\n",
              "}\n",
              "\n",
              "/* On hover */\n",
              "div.sk-estimator:hover .sk-estimator-doc-link:hover,\n",
              ".sk-estimator-doc-link:hover,\n",
              "div.sk-label-container:hover .sk-estimator-doc-link:hover,\n",
              ".sk-estimator-doc-link:hover {\n",
              "  /* unfitted */\n",
              "  background-color: var(--sklearn-color-unfitted-level-3);\n",
              "  color: var(--sklearn-color-background);\n",
              "  text-decoration: none;\n",
              "}\n",
              "\n",
              "div.sk-estimator.fitted:hover .sk-estimator-doc-link.fitted:hover,\n",
              ".sk-estimator-doc-link.fitted:hover,\n",
              "div.sk-label-container:hover .sk-estimator-doc-link.fitted:hover,\n",
              ".sk-estimator-doc-link.fitted:hover {\n",
              "  /* fitted */\n",
              "  background-color: var(--sklearn-color-fitted-level-3);\n",
              "  color: var(--sklearn-color-background);\n",
              "  text-decoration: none;\n",
              "}\n",
              "\n",
              "/* Span, style for the box shown on hovering the info icon */\n",
              ".sk-estimator-doc-link span {\n",
              "  display: none;\n",
              "  z-index: 9999;\n",
              "  position: relative;\n",
              "  font-weight: normal;\n",
              "  right: .2ex;\n",
              "  padding: .5ex;\n",
              "  margin: .5ex;\n",
              "  width: min-content;\n",
              "  min-width: 20ex;\n",
              "  max-width: 50ex;\n",
              "  color: var(--sklearn-color-text);\n",
              "  box-shadow: 2pt 2pt 4pt #999;\n",
              "  /* unfitted */\n",
              "  background: var(--sklearn-color-unfitted-level-0);\n",
              "  border: .5pt solid var(--sklearn-color-unfitted-level-3);\n",
              "}\n",
              "\n",
              ".sk-estimator-doc-link.fitted span {\n",
              "  /* fitted */\n",
              "  background: var(--sklearn-color-fitted-level-0);\n",
              "  border: var(--sklearn-color-fitted-level-3);\n",
              "}\n",
              "\n",
              ".sk-estimator-doc-link:hover span {\n",
              "  display: block;\n",
              "}\n",
              "\n",
              "/* \"?\"-specific style due to the `<a>` HTML tag */\n",
              "\n",
              "#sk-container-id-1 a.estimator_doc_link {\n",
              "  float: right;\n",
              "  font-size: 1rem;\n",
              "  line-height: 1em;\n",
              "  font-family: monospace;\n",
              "  background-color: var(--sklearn-color-background);\n",
              "  border-radius: 1rem;\n",
              "  height: 1rem;\n",
              "  width: 1rem;\n",
              "  text-decoration: none;\n",
              "  /* unfitted */\n",
              "  color: var(--sklearn-color-unfitted-level-1);\n",
              "  border: var(--sklearn-color-unfitted-level-1) 1pt solid;\n",
              "}\n",
              "\n",
              "#sk-container-id-1 a.estimator_doc_link.fitted {\n",
              "  /* fitted */\n",
              "  border: var(--sklearn-color-fitted-level-1) 1pt solid;\n",
              "  color: var(--sklearn-color-fitted-level-1);\n",
              "}\n",
              "\n",
              "/* On hover */\n",
              "#sk-container-id-1 a.estimator_doc_link:hover {\n",
              "  /* unfitted */\n",
              "  background-color: var(--sklearn-color-unfitted-level-3);\n",
              "  color: var(--sklearn-color-background);\n",
              "  text-decoration: none;\n",
              "}\n",
              "\n",
              "#sk-container-id-1 a.estimator_doc_link.fitted:hover {\n",
              "  /* fitted */\n",
              "  background-color: var(--sklearn-color-fitted-level-3);\n",
              "}\n",
              "</style><div id=\"sk-container-id-1\" class=\"sk-top-container\"><div class=\"sk-text-repr-fallback\"><pre>Pipeline(steps=[(&#x27;preprocessor&#x27;,\n",
              "                 ColumnTransformer(remainder=&#x27;passthrough&#x27;,\n",
              "                                   transformers=[(&#x27;ord_encode&#x27;,\n",
              "                                                  OrdinalEncoder(),\n",
              "                                                  [&#x27;Item_Sugar_Content&#x27;,\n",
              "                                                   &#x27;Item_Type&#x27;, &#x27;Store_Size&#x27;,\n",
              "                                                   &#x27;Store_Location_Type&#x27;,\n",
              "                                                   &#x27;Store_Type&#x27;]),\n",
              "                                                 (&#x27;std_scale&#x27;, StandardScaler(),\n",
              "                                                  [&#x27;Item_Weight&#x27;,\n",
              "                                                   &#x27;Item_Visibility&#x27;,\n",
              "                                                   &#x27;Item_Price&#x27;,\n",
              "                                                   &#x27;Store_Start_Year&#x27;]),\n",
              "                                                 (&#x27;qt_scale&#x27;,\n",
              "                                                  QuantileTransformer(),\n",
              "                                                  [&#x27;Item_Weight&#x27;,\n",
              "                                                   &#x27;Item_Visibility&#x27;,\n",
              "                                                   &#x27;Item_Price&#x27;,\n",
              "                                                   &#x27;Store_Start_Year&#x27;]),\n",
              "                                                 (&#x27;pt&#x27;, PowerTransformer(),\n",
              "                                                  [&#x27;Item_Weight&#x27;,\n",
              "                                                   &#x27;Item_Visibility&#x27;,\n",
              "                                                   &#x27;Item_Price&#x27;,\n",
              "                                                   &#x27;Store_Start_Year&#x27;])])),\n",
              "                (&#x27;lr_model&#x27;, LinearRegression(n_jobs=-1))])</pre><b>In a Jupyter environment, please rerun this cell to show the HTML representation or trust the notebook. <br />On GitHub, the HTML representation is unable to render, please try loading this page with nbviewer.org.</b></div><div class=\"sk-container\" hidden><div class=\"sk-item sk-dashed-wrapped\"><div class=\"sk-label-container\"><div class=\"sk-label fitted sk-toggleable\"><input class=\"sk-toggleable__control sk-hidden--visually\" id=\"sk-estimator-id-1\" type=\"checkbox\" ><label for=\"sk-estimator-id-1\" class=\"sk-toggleable__label fitted sk-toggleable__label-arrow\"><div><div>Pipeline</div></div><div><a class=\"sk-estimator-doc-link fitted\" rel=\"noreferrer\" target=\"_blank\" href=\"https://scikit-learn.org/1.6/modules/generated/sklearn.pipeline.Pipeline.html\">?<span>Documentation for Pipeline</span></a><span class=\"sk-estimator-doc-link fitted\">i<span>Fitted</span></span></div></label><div class=\"sk-toggleable__content fitted\"><pre>Pipeline(steps=[(&#x27;preprocessor&#x27;,\n",
              "                 ColumnTransformer(remainder=&#x27;passthrough&#x27;,\n",
              "                                   transformers=[(&#x27;ord_encode&#x27;,\n",
              "                                                  OrdinalEncoder(),\n",
              "                                                  [&#x27;Item_Sugar_Content&#x27;,\n",
              "                                                   &#x27;Item_Type&#x27;, &#x27;Store_Size&#x27;,\n",
              "                                                   &#x27;Store_Location_Type&#x27;,\n",
              "                                                   &#x27;Store_Type&#x27;]),\n",
              "                                                 (&#x27;std_scale&#x27;, StandardScaler(),\n",
              "                                                  [&#x27;Item_Weight&#x27;,\n",
              "                                                   &#x27;Item_Visibility&#x27;,\n",
              "                                                   &#x27;Item_Price&#x27;,\n",
              "                                                   &#x27;Store_Start_Year&#x27;]),\n",
              "                                                 (&#x27;qt_scale&#x27;,\n",
              "                                                  QuantileTransformer(),\n",
              "                                                  [&#x27;Item_Weight&#x27;,\n",
              "                                                   &#x27;Item_Visibility&#x27;,\n",
              "                                                   &#x27;Item_Price&#x27;,\n",
              "                                                   &#x27;Store_Start_Year&#x27;]),\n",
              "                                                 (&#x27;pt&#x27;, PowerTransformer(),\n",
              "                                                  [&#x27;Item_Weight&#x27;,\n",
              "                                                   &#x27;Item_Visibility&#x27;,\n",
              "                                                   &#x27;Item_Price&#x27;,\n",
              "                                                   &#x27;Store_Start_Year&#x27;])])),\n",
              "                (&#x27;lr_model&#x27;, LinearRegression(n_jobs=-1))])</pre></div> </div></div><div class=\"sk-serial\"><div class=\"sk-item sk-dashed-wrapped\"><div class=\"sk-label-container\"><div class=\"sk-label fitted sk-toggleable\"><input class=\"sk-toggleable__control sk-hidden--visually\" id=\"sk-estimator-id-2\" type=\"checkbox\" ><label for=\"sk-estimator-id-2\" class=\"sk-toggleable__label fitted sk-toggleable__label-arrow\"><div><div>preprocessor: ColumnTransformer</div></div><div><a class=\"sk-estimator-doc-link fitted\" rel=\"noreferrer\" target=\"_blank\" href=\"https://scikit-learn.org/1.6/modules/generated/sklearn.compose.ColumnTransformer.html\">?<span>Documentation for preprocessor: ColumnTransformer</span></a></div></label><div class=\"sk-toggleable__content fitted\"><pre>ColumnTransformer(remainder=&#x27;passthrough&#x27;,\n",
              "                  transformers=[(&#x27;ord_encode&#x27;, OrdinalEncoder(),\n",
              "                                 [&#x27;Item_Sugar_Content&#x27;, &#x27;Item_Type&#x27;,\n",
              "                                  &#x27;Store_Size&#x27;, &#x27;Store_Location_Type&#x27;,\n",
              "                                  &#x27;Store_Type&#x27;]),\n",
              "                                (&#x27;std_scale&#x27;, StandardScaler(),\n",
              "                                 [&#x27;Item_Weight&#x27;, &#x27;Item_Visibility&#x27;,\n",
              "                                  &#x27;Item_Price&#x27;, &#x27;Store_Start_Year&#x27;]),\n",
              "                                (&#x27;qt_scale&#x27;, QuantileTransformer(),\n",
              "                                 [&#x27;Item_Weight&#x27;, &#x27;Item_Visibility&#x27;,\n",
              "                                  &#x27;Item_Price&#x27;, &#x27;Store_Start_Year&#x27;]),\n",
              "                                (&#x27;pt&#x27;, PowerTransformer(),\n",
              "                                 [&#x27;Item_Weight&#x27;, &#x27;Item_Visibility&#x27;,\n",
              "                                  &#x27;Item_Price&#x27;, &#x27;Store_Start_Year&#x27;])])</pre></div> </div></div><div class=\"sk-parallel\"><div class=\"sk-parallel-item\"><div class=\"sk-item\"><div class=\"sk-label-container\"><div class=\"sk-label fitted sk-toggleable\"><input class=\"sk-toggleable__control sk-hidden--visually\" id=\"sk-estimator-id-3\" type=\"checkbox\" ><label for=\"sk-estimator-id-3\" class=\"sk-toggleable__label fitted sk-toggleable__label-arrow\"><div><div>ord_encode</div></div></label><div class=\"sk-toggleable__content fitted\"><pre>[&#x27;Item_Sugar_Content&#x27;, &#x27;Item_Type&#x27;, &#x27;Store_Size&#x27;, &#x27;Store_Location_Type&#x27;, &#x27;Store_Type&#x27;]</pre></div> </div></div><div class=\"sk-serial\"><div class=\"sk-item\"><div class=\"sk-estimator fitted sk-toggleable\"><input class=\"sk-toggleable__control sk-hidden--visually\" id=\"sk-estimator-id-4\" type=\"checkbox\" ><label for=\"sk-estimator-id-4\" class=\"sk-toggleable__label fitted sk-toggleable__label-arrow\"><div><div>OrdinalEncoder</div></div><div><a class=\"sk-estimator-doc-link fitted\" rel=\"noreferrer\" target=\"_blank\" href=\"https://scikit-learn.org/1.6/modules/generated/sklearn.preprocessing.OrdinalEncoder.html\">?<span>Documentation for OrdinalEncoder</span></a></div></label><div class=\"sk-toggleable__content fitted\"><pre>OrdinalEncoder()</pre></div> </div></div></div></div></div><div class=\"sk-parallel-item\"><div class=\"sk-item\"><div class=\"sk-label-container\"><div class=\"sk-label fitted sk-toggleable\"><input class=\"sk-toggleable__control sk-hidden--visually\" id=\"sk-estimator-id-5\" type=\"checkbox\" ><label for=\"sk-estimator-id-5\" class=\"sk-toggleable__label fitted sk-toggleable__label-arrow\"><div><div>std_scale</div></div></label><div class=\"sk-toggleable__content fitted\"><pre>[&#x27;Item_Weight&#x27;, &#x27;Item_Visibility&#x27;, &#x27;Item_Price&#x27;, &#x27;Store_Start_Year&#x27;]</pre></div> </div></div><div class=\"sk-serial\"><div class=\"sk-item\"><div class=\"sk-estimator fitted sk-toggleable\"><input class=\"sk-toggleable__control sk-hidden--visually\" id=\"sk-estimator-id-6\" type=\"checkbox\" ><label for=\"sk-estimator-id-6\" class=\"sk-toggleable__label fitted sk-toggleable__label-arrow\"><div><div>StandardScaler</div></div><div><a class=\"sk-estimator-doc-link fitted\" rel=\"noreferrer\" target=\"_blank\" href=\"https://scikit-learn.org/1.6/modules/generated/sklearn.preprocessing.StandardScaler.html\">?<span>Documentation for StandardScaler</span></a></div></label><div class=\"sk-toggleable__content fitted\"><pre>StandardScaler()</pre></div> </div></div></div></div></div><div class=\"sk-parallel-item\"><div class=\"sk-item\"><div class=\"sk-label-container\"><div class=\"sk-label fitted sk-toggleable\"><input class=\"sk-toggleable__control sk-hidden--visually\" id=\"sk-estimator-id-7\" type=\"checkbox\" ><label for=\"sk-estimator-id-7\" class=\"sk-toggleable__label fitted sk-toggleable__label-arrow\"><div><div>qt_scale</div></div></label><div class=\"sk-toggleable__content fitted\"><pre>[&#x27;Item_Weight&#x27;, &#x27;Item_Visibility&#x27;, &#x27;Item_Price&#x27;, &#x27;Store_Start_Year&#x27;]</pre></div> </div></div><div class=\"sk-serial\"><div class=\"sk-item\"><div class=\"sk-estimator fitted sk-toggleable\"><input class=\"sk-toggleable__control sk-hidden--visually\" id=\"sk-estimator-id-8\" type=\"checkbox\" ><label for=\"sk-estimator-id-8\" class=\"sk-toggleable__label fitted sk-toggleable__label-arrow\"><div><div>QuantileTransformer</div></div><div><a class=\"sk-estimator-doc-link fitted\" rel=\"noreferrer\" target=\"_blank\" href=\"https://scikit-learn.org/1.6/modules/generated/sklearn.preprocessing.QuantileTransformer.html\">?<span>Documentation for QuantileTransformer</span></a></div></label><div class=\"sk-toggleable__content fitted\"><pre>QuantileTransformer()</pre></div> </div></div></div></div></div><div class=\"sk-parallel-item\"><div class=\"sk-item\"><div class=\"sk-label-container\"><div class=\"sk-label fitted sk-toggleable\"><input class=\"sk-toggleable__control sk-hidden--visually\" id=\"sk-estimator-id-9\" type=\"checkbox\" ><label for=\"sk-estimator-id-9\" class=\"sk-toggleable__label fitted sk-toggleable__label-arrow\"><div><div>pt</div></div></label><div class=\"sk-toggleable__content fitted\"><pre>[&#x27;Item_Weight&#x27;, &#x27;Item_Visibility&#x27;, &#x27;Item_Price&#x27;, &#x27;Store_Start_Year&#x27;]</pre></div> </div></div><div class=\"sk-serial\"><div class=\"sk-item\"><div class=\"sk-estimator fitted sk-toggleable\"><input class=\"sk-toggleable__control sk-hidden--visually\" id=\"sk-estimator-id-10\" type=\"checkbox\" ><label for=\"sk-estimator-id-10\" class=\"sk-toggleable__label fitted sk-toggleable__label-arrow\"><div><div>PowerTransformer</div></div><div><a class=\"sk-estimator-doc-link fitted\" rel=\"noreferrer\" target=\"_blank\" href=\"https://scikit-learn.org/1.6/modules/generated/sklearn.preprocessing.PowerTransformer.html\">?<span>Documentation for PowerTransformer</span></a></div></label><div class=\"sk-toggleable__content fitted\"><pre>PowerTransformer()</pre></div> </div></div></div></div></div><div class=\"sk-parallel-item\"><div class=\"sk-item\"><div class=\"sk-label-container\"><div class=\"sk-label fitted sk-toggleable\"><input class=\"sk-toggleable__control sk-hidden--visually\" id=\"sk-estimator-id-11\" type=\"checkbox\" ><label for=\"sk-estimator-id-11\" class=\"sk-toggleable__label fitted sk-toggleable__label-arrow\"><div><div>remainder</div></div></label><div class=\"sk-toggleable__content fitted\"><pre>[]</pre></div> </div></div><div class=\"sk-serial\"><div class=\"sk-item\"><div class=\"sk-estimator fitted sk-toggleable\"><input class=\"sk-toggleable__control sk-hidden--visually\" id=\"sk-estimator-id-12\" type=\"checkbox\" ><label for=\"sk-estimator-id-12\" class=\"sk-toggleable__label fitted sk-toggleable__label-arrow\"><div><div>passthrough</div></div></label><div class=\"sk-toggleable__content fitted\"><pre>passthrough</pre></div> </div></div></div></div></div></div></div><div class=\"sk-item\"><div class=\"sk-estimator fitted sk-toggleable\"><input class=\"sk-toggleable__control sk-hidden--visually\" id=\"sk-estimator-id-13\" type=\"checkbox\" ><label for=\"sk-estimator-id-13\" class=\"sk-toggleable__label fitted sk-toggleable__label-arrow\"><div><div>LinearRegression</div></div><div><a class=\"sk-estimator-doc-link fitted\" rel=\"noreferrer\" target=\"_blank\" href=\"https://scikit-learn.org/1.6/modules/generated/sklearn.linear_model.LinearRegression.html\">?<span>Documentation for LinearRegression</span></a></div></label><div class=\"sk-toggleable__content fitted\"><pre>LinearRegression(n_jobs=-1)</pre></div> </div></div></div></div></div></div>"
            ]
          },
          "metadata": {},
          "execution_count": 47
        }
      ],
      "source": [
        "pipeline.fit(X_train, y_train)"
      ]
    },
    {
      "cell_type": "markdown",
      "source": [
        "### **evaluate model**"
      ],
      "metadata": {
        "id": "pYGv2vAzagUx"
      },
      "id": "pYGv2vAzagUx"
    },
    {
      "cell_type": "code",
      "execution_count": 48,
      "id": "d71cde12",
      "metadata": {
        "id": "d71cde12",
        "outputId": "b8a626fa-c4f2-4b93-c410-3cc500b92e59",
        "colab": {
          "base_uri": "https://localhost:8080/"
        }
      },
      "outputs": [
        {
          "output_type": "stream",
          "name": "stdout",
          "text": [
            "RMSE: 3104.548633\n"
          ]
        }
      ],
      "source": [
        "y_pred = pipeline.predict(X_test)\n",
        "\n",
        "print('RMSE: {:.6f}'.format(mean_squared_error(y_test, y_pred)**0.5))"
      ]
    },
    {
      "cell_type": "markdown",
      "source": [
        "### **predict test set**"
      ],
      "metadata": {
        "id": "8aFl2WM5amMg"
      },
      "id": "8aFl2WM5amMg"
    },
    {
      "cell_type": "code",
      "execution_count": 49,
      "id": "8ba51911",
      "metadata": {
        "id": "8ba51911"
      },
      "outputs": [],
      "source": [
        "test_df_pred = pipeline.predict(test_df_1)"
      ]
    },
    {
      "cell_type": "markdown",
      "source": [
        "### **generate submission**"
      ],
      "metadata": {
        "id": "DH7uI2Bzav8j"
      },
      "id": "DH7uI2Bzav8j"
    },
    {
      "cell_type": "code",
      "execution_count": 50,
      "id": "49c4545a",
      "metadata": {
        "id": "49c4545a",
        "outputId": "0262b079-557b-453a-f961-e16c2fb35b65",
        "colab": {
          "base_uri": "https://localhost:8080/",
          "height": 226
        }
      },
      "outputs": [
        {
          "output_type": "execute_result",
          "data": {
            "text/plain": [
              "        Item_Store_ID  Item_Store_Returns\n",
              "0  DRA59_BABATUNJI010                 100\n",
              "1  DRA59_BABATUNJI013                 100\n",
              "2  DRB01_BABATUNJI013                 100\n",
              "3  DRB13_BABATUNJI010                 100\n",
              "4  DRB13_BABATUNJI013                 100"
            ],
            "text/html": [
              "\n",
              "  <div id=\"df-e466557b-90bb-457d-899b-9054f44177da\" class=\"colab-df-container\">\n",
              "    <div>\n",
              "<style scoped>\n",
              "    .dataframe tbody tr th:only-of-type {\n",
              "        vertical-align: middle;\n",
              "    }\n",
              "\n",
              "    .dataframe tbody tr th {\n",
              "        vertical-align: top;\n",
              "    }\n",
              "\n",
              "    .dataframe thead th {\n",
              "        text-align: right;\n",
              "    }\n",
              "</style>\n",
              "<table border=\"1\" class=\"dataframe\">\n",
              "  <thead>\n",
              "    <tr style=\"text-align: right;\">\n",
              "      <th></th>\n",
              "      <th>Item_Store_ID</th>\n",
              "      <th>Item_Store_Returns</th>\n",
              "    </tr>\n",
              "  </thead>\n",
              "  <tbody>\n",
              "    <tr>\n",
              "      <th>0</th>\n",
              "      <td>DRA59_BABATUNJI010</td>\n",
              "      <td>100</td>\n",
              "    </tr>\n",
              "    <tr>\n",
              "      <th>1</th>\n",
              "      <td>DRA59_BABATUNJI013</td>\n",
              "      <td>100</td>\n",
              "    </tr>\n",
              "    <tr>\n",
              "      <th>2</th>\n",
              "      <td>DRB01_BABATUNJI013</td>\n",
              "      <td>100</td>\n",
              "    </tr>\n",
              "    <tr>\n",
              "      <th>3</th>\n",
              "      <td>DRB13_BABATUNJI010</td>\n",
              "      <td>100</td>\n",
              "    </tr>\n",
              "    <tr>\n",
              "      <th>4</th>\n",
              "      <td>DRB13_BABATUNJI013</td>\n",
              "      <td>100</td>\n",
              "    </tr>\n",
              "  </tbody>\n",
              "</table>\n",
              "</div>\n",
              "    <div class=\"colab-df-buttons\">\n",
              "\n",
              "  <div class=\"colab-df-container\">\n",
              "    <button class=\"colab-df-convert\" onclick=\"convertToInteractive('df-e466557b-90bb-457d-899b-9054f44177da')\"\n",
              "            title=\"Convert this dataframe to an interactive table.\"\n",
              "            style=\"display:none;\">\n",
              "\n",
              "  <svg xmlns=\"http://www.w3.org/2000/svg\" height=\"24px\" viewBox=\"0 -960 960 960\">\n",
              "    <path d=\"M120-120v-720h720v720H120Zm60-500h600v-160H180v160Zm220 220h160v-160H400v160Zm0 220h160v-160H400v160ZM180-400h160v-160H180v160Zm440 0h160v-160H620v160ZM180-180h160v-160H180v160Zm440 0h160v-160H620v160Z\"/>\n",
              "  </svg>\n",
              "    </button>\n",
              "\n",
              "  <style>\n",
              "    .colab-df-container {\n",
              "      display:flex;\n",
              "      gap: 12px;\n",
              "    }\n",
              "\n",
              "    .colab-df-convert {\n",
              "      background-color: #E8F0FE;\n",
              "      border: none;\n",
              "      border-radius: 50%;\n",
              "      cursor: pointer;\n",
              "      display: none;\n",
              "      fill: #1967D2;\n",
              "      height: 32px;\n",
              "      padding: 0 0 0 0;\n",
              "      width: 32px;\n",
              "    }\n",
              "\n",
              "    .colab-df-convert:hover {\n",
              "      background-color: #E2EBFA;\n",
              "      box-shadow: 0px 1px 2px rgba(60, 64, 67, 0.3), 0px 1px 3px 1px rgba(60, 64, 67, 0.15);\n",
              "      fill: #174EA6;\n",
              "    }\n",
              "\n",
              "    .colab-df-buttons div {\n",
              "      margin-bottom: 4px;\n",
              "    }\n",
              "\n",
              "    [theme=dark] .colab-df-convert {\n",
              "      background-color: #3B4455;\n",
              "      fill: #D2E3FC;\n",
              "    }\n",
              "\n",
              "    [theme=dark] .colab-df-convert:hover {\n",
              "      background-color: #434B5C;\n",
              "      box-shadow: 0px 1px 3px 1px rgba(0, 0, 0, 0.15);\n",
              "      filter: drop-shadow(0px 1px 2px rgba(0, 0, 0, 0.3));\n",
              "      fill: #FFFFFF;\n",
              "    }\n",
              "  </style>\n",
              "\n",
              "    <script>\n",
              "      const buttonEl =\n",
              "        document.querySelector('#df-e466557b-90bb-457d-899b-9054f44177da button.colab-df-convert');\n",
              "      buttonEl.style.display =\n",
              "        google.colab.kernel.accessAllowed ? 'block' : 'none';\n",
              "\n",
              "      async function convertToInteractive(key) {\n",
              "        const element = document.querySelector('#df-e466557b-90bb-457d-899b-9054f44177da');\n",
              "        const dataTable =\n",
              "          await google.colab.kernel.invokeFunction('convertToInteractive',\n",
              "                                                    [key], {});\n",
              "        if (!dataTable) return;\n",
              "\n",
              "        const docLinkHtml = 'Like what you see? Visit the ' +\n",
              "          '<a target=\"_blank\" href=https://colab.research.google.com/notebooks/data_table.ipynb>data table notebook</a>'\n",
              "          + ' to learn more about interactive tables.';\n",
              "        element.innerHTML = '';\n",
              "        dataTable['output_type'] = 'display_data';\n",
              "        await google.colab.output.renderOutput(dataTable, element);\n",
              "        const docLink = document.createElement('div');\n",
              "        docLink.innerHTML = docLinkHtml;\n",
              "        element.appendChild(docLink);\n",
              "      }\n",
              "    </script>\n",
              "  </div>\n",
              "\n",
              "\n",
              "    <div id=\"df-193f7888-aafc-4bb4-a78d-6bc915d54fb6\">\n",
              "      <button class=\"colab-df-quickchart\" onclick=\"quickchart('df-193f7888-aafc-4bb4-a78d-6bc915d54fb6')\"\n",
              "                title=\"Suggest charts\"\n",
              "                style=\"display:none;\">\n",
              "\n",
              "<svg xmlns=\"http://www.w3.org/2000/svg\" height=\"24px\"viewBox=\"0 0 24 24\"\n",
              "     width=\"24px\">\n",
              "    <g>\n",
              "        <path d=\"M19 3H5c-1.1 0-2 .9-2 2v14c0 1.1.9 2 2 2h14c1.1 0 2-.9 2-2V5c0-1.1-.9-2-2-2zM9 17H7v-7h2v7zm4 0h-2V7h2v10zm4 0h-2v-4h2v4z\"/>\n",
              "    </g>\n",
              "</svg>\n",
              "      </button>\n",
              "\n",
              "<style>\n",
              "  .colab-df-quickchart {\n",
              "      --bg-color: #E8F0FE;\n",
              "      --fill-color: #1967D2;\n",
              "      --hover-bg-color: #E2EBFA;\n",
              "      --hover-fill-color: #174EA6;\n",
              "      --disabled-fill-color: #AAA;\n",
              "      --disabled-bg-color: #DDD;\n",
              "  }\n",
              "\n",
              "  [theme=dark] .colab-df-quickchart {\n",
              "      --bg-color: #3B4455;\n",
              "      --fill-color: #D2E3FC;\n",
              "      --hover-bg-color: #434B5C;\n",
              "      --hover-fill-color: #FFFFFF;\n",
              "      --disabled-bg-color: #3B4455;\n",
              "      --disabled-fill-color: #666;\n",
              "  }\n",
              "\n",
              "  .colab-df-quickchart {\n",
              "    background-color: var(--bg-color);\n",
              "    border: none;\n",
              "    border-radius: 50%;\n",
              "    cursor: pointer;\n",
              "    display: none;\n",
              "    fill: var(--fill-color);\n",
              "    height: 32px;\n",
              "    padding: 0;\n",
              "    width: 32px;\n",
              "  }\n",
              "\n",
              "  .colab-df-quickchart:hover {\n",
              "    background-color: var(--hover-bg-color);\n",
              "    box-shadow: 0 1px 2px rgba(60, 64, 67, 0.3), 0 1px 3px 1px rgba(60, 64, 67, 0.15);\n",
              "    fill: var(--button-hover-fill-color);\n",
              "  }\n",
              "\n",
              "  .colab-df-quickchart-complete:disabled,\n",
              "  .colab-df-quickchart-complete:disabled:hover {\n",
              "    background-color: var(--disabled-bg-color);\n",
              "    fill: var(--disabled-fill-color);\n",
              "    box-shadow: none;\n",
              "  }\n",
              "\n",
              "  .colab-df-spinner {\n",
              "    border: 2px solid var(--fill-color);\n",
              "    border-color: transparent;\n",
              "    border-bottom-color: var(--fill-color);\n",
              "    animation:\n",
              "      spin 1s steps(1) infinite;\n",
              "  }\n",
              "\n",
              "  @keyframes spin {\n",
              "    0% {\n",
              "      border-color: transparent;\n",
              "      border-bottom-color: var(--fill-color);\n",
              "      border-left-color: var(--fill-color);\n",
              "    }\n",
              "    20% {\n",
              "      border-color: transparent;\n",
              "      border-left-color: var(--fill-color);\n",
              "      border-top-color: var(--fill-color);\n",
              "    }\n",
              "    30% {\n",
              "      border-color: transparent;\n",
              "      border-left-color: var(--fill-color);\n",
              "      border-top-color: var(--fill-color);\n",
              "      border-right-color: var(--fill-color);\n",
              "    }\n",
              "    40% {\n",
              "      border-color: transparent;\n",
              "      border-right-color: var(--fill-color);\n",
              "      border-top-color: var(--fill-color);\n",
              "    }\n",
              "    60% {\n",
              "      border-color: transparent;\n",
              "      border-right-color: var(--fill-color);\n",
              "    }\n",
              "    80% {\n",
              "      border-color: transparent;\n",
              "      border-right-color: var(--fill-color);\n",
              "      border-bottom-color: var(--fill-color);\n",
              "    }\n",
              "    90% {\n",
              "      border-color: transparent;\n",
              "      border-bottom-color: var(--fill-color);\n",
              "    }\n",
              "  }\n",
              "</style>\n",
              "\n",
              "      <script>\n",
              "        async function quickchart(key) {\n",
              "          const quickchartButtonEl =\n",
              "            document.querySelector('#' + key + ' button');\n",
              "          quickchartButtonEl.disabled = true;  // To prevent multiple clicks.\n",
              "          quickchartButtonEl.classList.add('colab-df-spinner');\n",
              "          try {\n",
              "            const charts = await google.colab.kernel.invokeFunction(\n",
              "                'suggestCharts', [key], {});\n",
              "          } catch (error) {\n",
              "            console.error('Error during call to suggestCharts:', error);\n",
              "          }\n",
              "          quickchartButtonEl.classList.remove('colab-df-spinner');\n",
              "          quickchartButtonEl.classList.add('colab-df-quickchart-complete');\n",
              "        }\n",
              "        (() => {\n",
              "          let quickchartButtonEl =\n",
              "            document.querySelector('#df-193f7888-aafc-4bb4-a78d-6bc915d54fb6 button');\n",
              "          quickchartButtonEl.style.display =\n",
              "            google.colab.kernel.accessAllowed ? 'block' : 'none';\n",
              "        })();\n",
              "      </script>\n",
              "    </div>\n",
              "\n",
              "    </div>\n",
              "  </div>\n"
            ],
            "application/vnd.google.colaboratory.intrinsic+json": {
              "type": "dataframe",
              "variable_name": "ss_df",
              "summary": "{\n  \"name\": \"ss_df\",\n  \"rows\": 3532,\n  \"fields\": [\n    {\n      \"column\": \"Item_Store_ID\",\n      \"properties\": {\n        \"dtype\": \"string\",\n        \"num_unique_values\": 3532,\n        \"samples\": [\n          \"DRP47_BABATUNJI049\",\n          \"NCT29_BABATUNJI045\",\n          \"NCL53_BABATUNJI013\"\n        ],\n        \"semantic_type\": \"\",\n        \"description\": \"\"\n      }\n    },\n    {\n      \"column\": \"Item_Store_Returns\",\n      \"properties\": {\n        \"dtype\": \"number\",\n        \"std\": 0,\n        \"min\": 100,\n        \"max\": 100,\n        \"num_unique_values\": 1,\n        \"samples\": [\n          100\n        ],\n        \"semantic_type\": \"\",\n        \"description\": \"\"\n      }\n    }\n  ]\n}"
            }
          },
          "metadata": {},
          "execution_count": 50
        }
      ],
      "source": [
        "ss_df.head()"
      ]
    },
    {
      "cell_type": "code",
      "execution_count": 51,
      "id": "2f401439",
      "metadata": {
        "id": "2f401439"
      },
      "outputs": [],
      "source": [
        "result = pd.DataFrame({'Item_Store_ID':ss_df.Item_Store_ID, 'Item_Store_Returns':test_df_pred})\n",
        "result.to_csv(\"linreg_baseline_model.csv\", index=False)"
      ]
    },
    {
      "cell_type": "code",
      "execution_count": 51,
      "id": "f2f25d33",
      "metadata": {
        "id": "f2f25d33"
      },
      "outputs": [],
      "source": []
    }
  ],
  "metadata": {
    "kernelspec": {
      "display_name": "Python 3 (ipykernel)",
      "language": "python",
      "name": "python3"
    },
    "language_info": {
      "codemirror_mode": {
        "name": "ipython",
        "version": 3
      },
      "file_extension": ".py",
      "mimetype": "text/x-python",
      "name": "python",
      "nbconvert_exporter": "python",
      "pygments_lexer": "ipython3",
      "version": "3.11.5"
    },
    "colab": {
      "provenance": [],
      "include_colab_link": true
    }
  },
  "nbformat": 4,
  "nbformat_minor": 5
}